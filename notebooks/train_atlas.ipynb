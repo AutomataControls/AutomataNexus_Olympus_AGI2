{
 "cells": [
  {
   "cell_type": "markdown",
   "metadata": {},
   "source": "# ATLAS Training - Spatial Transformation Expert\n**Author:** Andrew Jewell SR - AutomataNexus  \n**Model:** ATLAS (Enhanced Spatial Transformer Network)  \n**Purpose:** Specialized spatial transformation and geometric pattern recognition for ARC tasks  \n\n## Model Capabilities\n- Spatial transformer network for geometric transformations\n- Rotation and reflection detection (0°, 90°, 180°, 270°)\n- Affine transformation matrix prediction\n- Discrete transformation support (rotations, reflections)\n- 8-stage progressive curriculum (6x6 → 30x30 grids)\n\n## Integrations\n- **MEPT:** Memory-Enhanced Pattern Training for spatial patterns\n- **LEAP:** Learning Enhancement through Adaptive Patterns\n- **PRISM:** Program Reasoning through Inductive Synthesis\n- **DSL:** Domain-Specific Language for spatial transformations",
   "outputs": []
  },
  {
   "cell_type": "markdown",
   "metadata": {},
   "source": "## Step 1: Clone Repository",
   "outputs": []
  },
  {
   "cell_type": "code",
   "metadata": {},
   "outputs": [],
   "source": "# Clone the AutomataNexus OLYMPUS AGI2 repository\n!git clone https://github.com/AutomataControls/AutomataNexus_Olympus_AGI2.git /content/AutomataNexus_Olympus_AGI2\n!cd /content/AutomataNexus_Olympus_AGI2 && git status"
  },
  {
   "cell_type": "markdown",
   "metadata": {},
   "outputs": [],
   "source": "## Step 2: Update Repository"
  },
  {
   "cell_type": "code",
   "metadata": {},
   "source": "# Pull latest changes\n!cd /content/AutomataNexus_Olympus_AGI2 && git pull origin main\n!cd /content/AutomataNexus_Olympus_AGI2 && git log --oneline -5",
   "outputs": []
  },
  {
   "cell_type": "markdown",
   "metadata": {},
   "outputs": [],
   "source": "## Step 3: Execute ATLAS Training"
  },
  {
   "cell_type": "code",
   "source": "# Run ATLAS specialized training\n# This includes the 4-phase injection sequence:\n# 1. Exact Match - Spatial transformation identity mapping\n# 2. MEPT - Spatial memory enhancement  \n# 3. LEAP - Adaptive spatial learning\n# 4. PRISM - Spatial program synthesis\n!cd /content/AutomataNexus_Olympus_AGI2 && python scripts/training/train_atlas_specialized.py",
   "metadata": {},
   "outputs": []
  },
  {
   "cell_type": "markdown",
   "metadata": {},
   "source": "## Step 4: Download Trained Models",
   "outputs": []
  },
  {
   "cell_type": "code",
   "source": "# Create zip of trained ATLAS models\n!cd /content && zip -r atlas_models.zip AutomataNexus_Olympus_AGI2/arc_models_v4/atlas_*.pt\n\n# Download the models\nfrom google.colab import files\nfiles.download('/content/atlas_models.zip')\n\n# Show model sizes\n!ls -lh /content/AutomataNexus_Olympus_AGI2/arc_models_v4/atlas_*.pt",
   "metadata": {},
   "outputs": []
  },
  {
   "cell_type": "markdown",
   "metadata": {},
   "outputs": [],
   "source": "## Step 5: Training Metrics & Interpretation"
  },
  {
   "cell_type": "code",
   "metadata": {},
   "source": "import torch\nimport os\n\n# Load and display ATLAS training results\nmodels_dir = '/content/AutomataNexus_Olympus_AGI2/arc_models_v4'\n\n# Check for checkpoint\ncheckpoint_path = os.path.join(models_dir, 'atlas_checkpoint.pt')\nbest_path = os.path.join(models_dir, 'atlas_best.pt')\n\nif os.path.exists(checkpoint_path):\n    checkpoint = torch.load(checkpoint_path, map_location='cpu')\n    print(\"🗺️ ATLAS CHECKPOINT METRICS:\")\n    print(f\"  • Epoch: {checkpoint.get('epoch', 'N/A')}\")\n    print(f\"  • Stage: {checkpoint.get('stage', 'N/A')}\")\n    print(f\"  • Grid Size: {checkpoint.get('grid_size', 'N/A')}x{checkpoint.get('grid_size', 'N/A')}\")\n    print(f\"  • Validation Exact Match: {checkpoint.get('val_exact', 0):.2f}%\")\n    print(f\"  • Validation Loss: {checkpoint.get('val_loss', 0):.3f}\")\n    print()\n\nif os.path.exists(best_path):\n    best = torch.load(best_path, map_location='cpu')\n    print(\"🏆 ATLAS BEST MODEL METRICS:\")\n    print(f\"  • Best Exact Match: {best.get('best_exact', 0):.2f}%\")\n    print(f\"  • Achieved at Epoch: {best.get('epoch', 'N/A')}\")\n    print(f\"  • Stage: {best.get('stage', 'N/A')} ({best.get('grid_size', 'N/A')}x{best.get('grid_size', 'N/A')})\")\n\n# Performance interpretation\nprint(\"\\n📊 PERFORMANCE INTERPRETATION:\")\nprint(\"• <1%: Model learning spatial fundamentals\")\nprint(\"• 1-5%: Basic transformation recognition\")\nprint(\"• 5-10%: Good geometric understanding\")\nprint(\"• >10%: Excellent spatial transformation mastery\")\nprint(\"\\n💡 ATLAS specializes in spatial transformations and geometry.\")\nprint(\"   It excels at tasks involving rotations, reflections, scaling,\")\nprint(\"   and geometric pattern recognition in the ensemble.\")",
   "outputs": []
  }
 ],
 "metadata": {
  "kernelspec": {
   "display_name": "Python 3",
   "language": "python",
   "name": "python3"
  },
  "language_info": {
   "codemirror_mode": {
    "name": "ipython",
    "version": 3
   },
   "file_extension": ".py",
   "mimetype": "text/x-python",
   "name": "python",
   "nbconvert_exporter": "python",
   "pygments_lexer": "ipython3",
   "version": "3.8.10"
  }
 },
 "nbformat": 4,
 "nbformat_minor": 4
}