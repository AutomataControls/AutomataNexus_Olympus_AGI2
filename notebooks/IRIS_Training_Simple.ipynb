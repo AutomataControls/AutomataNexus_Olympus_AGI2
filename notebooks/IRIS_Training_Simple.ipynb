{
 "cells": [
  {
   "cell_type": "markdown",
   "metadata": {},
   "source": [
    "# IRIS Training - Color Pattern Recognition Expert\n",
    "**Author:** Andrew Jewell SR - AutomataNexus  \n",
    "**Model:** IRIS (Enhanced Color Pattern Recognition Network)  \n",
    "**Purpose:** Specialized color pattern recognition and transformation for ARC tasks  \n",
    "\n",
    "## Model Capabilities\n",
    "- Color attention mechanism for precise color mapping\n",
    "- LSTM-based color transformation rules\n",
    "- Multi-head attention for complex color relationships\n",
    "- 8-stage progressive curriculum (6x6 → 30x30 grids)\n",
    "\n",
    "## Integrations\n",
    "- **MEPT:** Memory-Enhanced Pattern Training for color patterns\n",
    "- **LEAP:** Learning Enhancement through Adaptive Patterns\n",
    "- **PRISM:** Program Reasoning through Inductive Synthesis\n",
    "- **DSL:** Domain-Specific Language for color transformations"
   ]
  },
  {
   "cell_type": "markdown",
   "metadata": {},
   "source": [
    "## Step 1: Clone Repository"
   ]
  },
  {
   "cell_type": "code",
   "execution_count": null,
   "metadata": {},
   "outputs": [],
   "source": [
    "# Clone the AutomataNexus OLYMPUS AGI2 repository\n",
    "!git clone https://github.com/AutomataControls/AutomataNexus_Olympus_AGI2.git /content/AutomataNexus_Olympus_AGI2\n",
    "!cd /content/AutomataNexus_Olympus_AGI2 && git status"
   ]
  },
  {
   "cell_type": "markdown",
   "metadata": {},
   "source": [
    "## Step 2: Update Repository"
   ]
  },
  {
   "cell_type": "code",
   "execution_count": null,
   "metadata": {},
   "outputs": [],
   "source": [
    "# Pull latest changes\n",
    "!cd /content/AutomataNexus_Olympus_AGI2 && git pull origin main\n",
    "!cd /content/AutomataNexus_Olympus_AGI2 && git log --oneline -5"
   ]
  },
  {
   "cell_type": "markdown",
   "metadata": {},
   "source": [
    "## Step 3: Execute IRIS Training"
   ]
  },
  {
   "cell_type": "code",
   "execution_count": null,
   "metadata": {},
   "outputs": [],
   "source": [
    "# Install dependencies if needed\n",
    "!pip install torch torchvision tqdm numpy\n",
    "\n",
    "# Run IRIS specialized training\n",
    "# This includes the 4-phase injection sequence:\n",
    "# 1. Exact Match - Color identity mapping\n",
    "# 2. MEPT - Color memory enhancement  \n",
    "# 3. LEAP - Adaptive color learning\n",
    "# 4. PRISM - Color program synthesis\n",
    "!cd /content/AutomataNexus_Olympus_AGI2 && python scripts/training/train_iris_specialized.py"
   ]
  },
  {
   "cell_type": "markdown",
   "metadata": {},
   "source": [
    "## Step 4: Download Trained Models"
   ]
  },
  {
   "cell_type": "code",
   "execution_count": null,
   "metadata": {},
   "outputs": [],
   "source": [
    "# Create zip of trained IRIS models\n",
    "!cd /content && zip -r iris_models.zip AutomataNexus_Olympus_AGI2/arc_models_v4/iris_*.pt\n",
    "\n",
    "# Download the models\n",
    "from google.colab import files\n",
    "files.download('/content/iris_models.zip')\n",
    "\n",
    "# Show model sizes\n",
    "!ls -lh /content/AutomataNexus_Olympus_AGI2/arc_models_v4/iris_*.pt"
   ]
  },
  {
   "cell_type": "markdown",
   "metadata": {},
   "source": [
    "## Step 5: Training Metrics & Interpretation"
   ]
  },
  {
   "cell_type": "code",
   "execution_count": null,
   "metadata": {},
   "outputs": [],
   "source": [
    "import torch\n",
    "import os\n",
    "\n",
    "# Load and display IRIS training results\n",
    "models_dir = '/content/AutomataNexus_Olympus_AGI2/arc_models_v4'\n",
    "\n",
    "# Check for checkpoint\n",
    "checkpoint_path = os.path.join(models_dir, 'iris_checkpoint.pt')\n",
    "best_path = os.path.join(models_dir, 'iris_best.pt')\n",
    "\n",
    "if os.path.exists(checkpoint_path):\n",
    "    checkpoint = torch.load(checkpoint_path, map_location='cpu')\n",
    "    print(\"🎨 IRIS CHECKPOINT METRICS:\")\n",
    "    print(f\"  • Epoch: {checkpoint.get('epoch', 'N/A')}\")\n",
    "    print(f\"  • Stage: {checkpoint.get('stage', 'N/A')}\")\n",
    "    print(f\"  • Grid Size: {checkpoint.get('grid_size', 'N/A')}x{checkpoint.get('grid_size', 'N/A')}\")\n",
    "    print(f\"  • Validation Exact Match: {checkpoint.get('val_exact', 0):.2f}%\")\n",
    "    print(f\"  • Validation Loss: {checkpoint.get('val_loss', 0):.3f}\")\n",
    "    print()\n",
    "\n",
    "if os.path.exists(best_path):\n",
    "    best = torch.load(best_path, map_location='cpu')\n",
    "    print(\"🏆 IRIS BEST MODEL METRICS:\")\n",
    "    print(f\"  • Best Exact Match: {best.get('best_exact', 0):.2f}%\")\n",
    "    print(f\"  • Achieved at Epoch: {best.get('epoch', 'N/A')}\")\n",
    "    print(f\"  • Stage: {best.get('stage', 'N/A')} ({best.get('grid_size', 'N/A')}x{best.get('grid_size', 'N/A')})\")\n",
    "\n",
    "# Performance interpretation\n",
    "print(\"\\n📊 PERFORMANCE INTERPRETATION:\")\n",
    "print(\"• <1%: Model learning color fundamentals\")\n",
    "print(\"• 1-5%: Basic color pattern recognition\")\n",
    "print(\"• 5-10%: Good color transformation understanding\")\n",
    "print(\"• >10%: Excellent color pattern mastery\")\n",
    "print(\"\\n💡 IRIS specializes in color relationships and transformations.\")\n",
    "print(\"   It excels at tasks involving color mapping, palette changes,\")\n",
    "print(\"   and color-based pattern recognition in the ensemble.\")"
   ]
  }
 ],
 "metadata": {
  "kernelspec": {
   "display_name": "Python 3",
   "language": "python",
   "name": "python3"
  },
  "language_info": {
   "codemirror_mode": {
    "name": "ipython",
    "version": 3
   },
   "file_extension": ".py",
   "mimetype": "text/x-python",
   "name": "python",
   "nbconvert_exporter": "python",
   "pygments_lexer": "ipython3",
   "version": "3.8.0"
  }
 },
 "nbformat": 4,
 "nbformat_minor": 4
}