{
 "cells": [
  {
   "cell_type": "markdown",
   "metadata": {},
   "source": [
    "# 🧠 MINERVA - Grid Reasoning & Strategic Analysis Model\n",
    "\n",
    "**Author:** Andrew Jewell Sr. - AutomataNexus, LLC\n",
    "\n",
    "**Model:** MINERVA (Part of OLYMPUS AGI2 Ensemble)\n",
    "\n",
    "**Purpose:** Specialized neural network for grid reasoning, strategic pattern analysis, and spatial transformations in ARC (Abstraction and Reasoning Corpus) tasks.\n",
    "\n",
    "## Key Features:\n",
    "- Grid-aware attention mechanism\n",
    "- Object detection and boundary analysis\n",
    "- Relational reasoning between grid elements\n",
    "- Strategic pattern memory bank\n",
    "- Transformation learning and prediction\n",
    "\n",
    "## Integrated Training Systems:\n",
    "- **MEPT** (Memory-Enhanced Pattern Training)\n",
    "- **LEAP** (Learning Enhancement through Adaptive Patterns)\n",
    "- **PRISM** (Program Reasoning through Inductive Synthesis)\n",
    "- **DSL** (Domain-Specific Language for grid operations)\n",
    "- **Exact Match Injection** (Identity mapping pre-training)"
   ]
  },
  {
   "cell_type": "code",
   "execution_count": null,
   "metadata": {},
   "outputs": [],
   "source": [
    "# 📥 Cell 2: Clone Repository\n",
    "!git clone https://github.com/AutomataControls/AutomataNexus_Olympus_AGI2.git /content/AutomataNexus_Olympus_AGI2"
   ]
  },
  {
   "cell_type": "code",
   "execution_count": null,
   "metadata": {},
   "outputs": [],
   "source": [
    "# 🔄 Cell 3: Update Repository\n",
    "%cd /content/AutomataNexus_Olympus_AGI2\n",
    "!git pull origin main"
   ]
  },
  {
   "cell_type": "code",
   "execution_count": null,
   "metadata": {},
   "outputs": [],
   "source": [
    "# 🚀 Cell 4: Execute MINERVA Training\n",
    "%cd /content/AutomataNexus_Olympus_AGI2\n",
    "!python scripts/training/train_minerva_specialized.py"
   ]
  },
  {
   "cell_type": "code",
   "execution_count": null,
   "metadata": {},
   "outputs": [],
   "source": [
    "# 💾 Cell 5: Download Trained Models\n",
    "import os\n",
    "from google.colab import files\n",
    "import zipfile\n",
    "\n",
    "# Create zip of model checkpoints\n",
    "model_dir = '/content/AutomataNexus_Olympus_AGI2/arc_models_v4'\n",
    "zip_path = '/content/minerva_models.zip'\n",
    "\n",
    "with zipfile.ZipFile(zip_path, 'w', zipfile.ZIP_DEFLATED) as zipf:\n",
    "    for root, dirs, files in os.walk(model_dir):\n",
    "        for file in files:\n",
    "            if 'minerva' in file.lower():\n",
    "                file_path = os.path.join(root, file)\n",
    "                arcname = os.path.relpath(file_path, model_dir)\n",
    "                zipf.write(file_path, arcname)\n",
    "                print(f\"Added: {arcname}\")\n",
    "\n",
    "# Download the zip\n",
    "files.download(zip_path)\n",
    "print(f\"\\n✅ MINERVA models zipped and ready for download!\")"
   ]
  },
  {
   "cell_type": "code",
   "execution_count": null,
   "metadata": {},
   "outputs": [],
   "source": [
    "# 📊 Cell 6: Metrics Interpretation & Analysis\n",
    "import json\n",
    "import torch\n",
    "\n",
    "# Load checkpoint to analyze metrics\n",
    "checkpoint_path = '/content/AutomataNexus_Olympus_AGI2/arc_models_v4/minerva_checkpoint.pt'\n",
    "if os.path.exists(checkpoint_path):\n",
    "    checkpoint = torch.load(checkpoint_path, map_location='cpu')\n",
    "    \n",
    "    print(\"🧠 MINERVA Training Metrics Analysis\")\n",
    "    print(\"=\" * 50)\n",
    "    print(f\"📈 Current Epoch: {checkpoint.get('epoch', 0)}\")\n",
    "    print(f\"🎯 Best Exact Match: {checkpoint.get('best_exact', 0):.2f}%\")\n",
    "    print(f\"📉 Validation Loss: {checkpoint.get('val_loss', 'N/A')}\")\n",
    "    print(f\"🏫 Current Stage: {checkpoint.get('stage', 0)}\")\n",
    "    print(f\"📏 Grid Size: {checkpoint.get('grid_size', 'N/A')}x{checkpoint.get('grid_size', 'N/A')}\")\n",
    "    \n",
    "    # Interpret the results\n",
    "    exact_match = checkpoint.get('best_exact', 0)\n",
    "    \n",
    "    print(\"\\n📋 Performance Interpretation:\")\n",
    "    if exact_match < 1.0:\n",
    "        print(\"⚠️ VERY LOW: Model is struggling with basic patterns\")\n",
    "        print(\"   - Check if exact match injection completed successfully\")\n",
    "        print(\"   - May need to reduce learning rate or simplify patterns\")\n",
    "    elif exact_match < 5.0:\n",
    "        print(\"🟡 LOW: Model is learning but slowly\")\n",
    "        print(\"   - Consider increasing exact match bonus\")\n",
    "        print(\"   - May need more training epochs per stage\")\n",
    "    elif exact_match < 20.0:\n",
    "        print(\"🟢 MODERATE: Model showing promise\")\n",
    "        print(\"   - Continue training with current settings\")\n",
    "        print(\"   - Monitor for overfitting on larger grids\")\n",
    "    else:\n",
    "        print(\"🏆 GOOD: Model performing well!\")\n",
    "        print(\"   - Ready for more complex grid sizes\")\n",
    "        print(\"   - Consider fine-tuning on specific ARC patterns\")\n",
    "    \n",
    "    # Training recommendations\n",
    "    print(\"\\n🎯 Recommendations:\")\n",
    "    if checkpoint.get('stage', 0) == 0 and exact_match < 50.0:\n",
    "        print(\"1. Focus on improving Stage 0 (6x6 grids) performance\")\n",
    "        print(\"2. Run additional exact match injection epochs\")\n",
    "        print(\"3. Check if model architecture is too complex for simple patterns\")\n",
    "    else:\n",
    "        print(\"1. Progress to next curriculum stage\")\n",
    "        print(\"2. Monitor memory usage on larger grids\")\n",
    "        print(\"3. Save best checkpoints before major changes\")\n",
    "else:\n",
    "    print(\"❌ No checkpoint found! Train the model first.\")"
   ]
  }
 ],
 "metadata": {
  "kernelspec": {
   "display_name": "Python 3",
   "language": "python",
   "name": "python3"
  },
  "language_info": {
   "codemirror_mode": {
    "name": "ipython",
    "version": 3
   },
   "file_extension": ".py",
   "mimetype": "text/x-python",
   "name": "python",
   "nbconvert_exporter": "python",
   "pygments_lexer": "ipython3",
   "version": "3.10.12"
  }
 },
 "nbformat": 4,
 "nbformat_minor": 4
}