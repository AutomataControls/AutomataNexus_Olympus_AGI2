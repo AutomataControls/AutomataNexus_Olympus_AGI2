{
 "cells": [
  {
   "cell_type": "markdown",
   "metadata": {},
   "source": "# ATLAS Model Training\n\n**Spatial Transformation Specialist**\n\nThis notebook trains the ATLAS model, which specializes in:\n- Geometric transformations (rotations, reflections, translations)\n- Spatial transformer networks\n- Affine transformation matrix operations\n- Discrete operation support\n- Geometric pattern recognition",
   "outputs": []
  },
  {
   "cell_type": "markdown",
   "metadata": {},
   "source": "## Setup Environment",
   "outputs": []
  },
  {
   "cell_type": "code",
   "metadata": {},
   "outputs": [],
   "source": "# Download pre-trained models (optional)\n!cd /content/AutomataNexus_Olympus_AGI2 && python scripts/download_models.py\n\n# Clone repository and install dependencies\n!git clone https://github.com/AutomataControls/AutomataNexus_Olympus_AGI2.git /content/AutomataNexus_Olympus_AGI2\n!cd /content/AutomataNexus_Olympus_AGI2 && pip install -r requirements.txt -q"
  },
  {
   "cell_type": "code",
   "execution_count": null,
   "metadata": {},
   "outputs": [],
   "source": [
    "# Verify environment\n",
    "import torch\n",
    "print(f\"PyTorch Version: {torch.__version__}\")\n",
    "print(f\"CUDA Available: {torch.cuda.is_available()}\")\n",
    "if torch.cuda.is_available():\n",
    "    print(f\"GPU: {torch.cuda.get_device_name(0)}\")\n",
    "    print(f\"Memory: {torch.cuda.get_device_properties(0).total_memory / 1e9:.2f} GB\")"
   ]
  },
  {
   "cell_type": "markdown",
   "metadata": {},
   "source": "## Start ATLAS Training\n\nTraining configuration:\n- **Architecture**: Spatial Transformer Network\n- **Parameters**: ~1.2M\n- **Specialization**: Geometric transformations\n- **Focus**: Rotation/reflection detection and precise parameter estimation",
   "outputs": []
  },
  {
   "cell_type": "code",
   "metadata": {},
   "outputs": [],
   "source": "# Pull latest updates before training\n!cd /content/AutomataNexus_Olympus_AGI2 && git pull\n\n# Train ATLAS model with OPTIMIZED SPECIALIZED TRAINER (PERFORMANCE FIXED!)\n!cd /content/AutomataNexus_Olympus_AGI2 && python scripts/training/train_atlas_specialized.py"
  },
  {
   "cell_type": "markdown",
   "metadata": {},
   "source": "## Monitor Training Progress",
   "outputs": []
  },
  {
   "cell_type": "code",
   "source": "# Initialize ATLAS Iterative Training Controller\nimport json\nimport os\nimport datetime\nfrom typing import Dict, List\n\nclass AtlasIterativeTrainer:\n    def __init__(self, base_dir='/content/AutomataNexus_Olympus_AGI2'):\n        self.base_dir = base_dir\n        self.iteration_log_file = f\"{base_dir}/arc_models_v4/atlas_iterations.json\"\n        self.current_params = self.load_default_params()\n        self.iterations = self.load_iteration_history()\n    \n    def load_default_params(self) -> Dict:\n        return {\n            'learning_rate': 0.003,\n            'batch_size': 256,\n            'epochs_per_stage': 120,\n            'spatial_weight': 2.0,\n            'transformation_penalty': 0.5,\n            'exact_match_bonus': 5.0,\n            'gradient_accumulation_steps': 8,\n            'stn_dropout': 0.1,\n            'geometric_augmentation': True,\n            'target_accuracy': 95.0\n        }\n    \n    def load_iteration_history(self) -> List[Dict]:\n        if os.path.exists(self.iteration_log_file):\n            with open(self.iteration_log_file, 'r') as f:\n                return json.load(f)\n        return []\n    \n    def save_iteration_history(self):\n        os.makedirs(os.path.dirname(self.iteration_log_file), exist_ok=True)\n        with open(self.iteration_log_file, 'w') as f:\n            json.dump(self.iterations, f, indent=2)\n    \n    def log_iteration(self, params: Dict, results: Dict):\n        iteration = {\n            'iteration': len(self.iterations) + 1,\n            'timestamp': datetime.datetime.now().isoformat(),\n            'parameters': params.copy(),\n            'results': results.copy()\n        }\n        self.iterations.append(iteration)\n        self.save_iteration_history()\n    \n    def get_best_iteration(self) -> Dict:\n        if not self.iterations:\n            return None\n        return max(self.iterations, key=lambda x: x['results'].get('best_exact', 0))\n    \n    def suggest_next_params(self) -> Dict:\n        if len(self.iterations) < 2:\n            return self.current_params.copy()\n        \n        best = self.get_best_iteration()\n        latest = self.iterations[-1]\n        \n        suggestions = best['parameters'].copy() if best else self.current_params.copy()\n        \n        if latest and best:\n            latest_exact = latest['results'].get('best_exact', 0)\n            best_exact = best['results'].get('best_exact', 0)\n            \n            if latest_exact < best_exact * 0.85:\n                suggestions['learning_rate'] *= 0.6\n                suggestions['spatial_weight'] = min(3.0, suggestions['spatial_weight'] * 1.3)\n                suggestions['stn_dropout'] = max(0.05, suggestions['stn_dropout'] * 0.8)\n            elif latest_exact > best_exact * 1.05:\n                suggestions['learning_rate'] = min(0.005, suggestions['learning_rate'] * 1.1)\n                suggestions['epochs_per_stage'] = min(150, suggestions['epochs_per_stage'] + 10)\n        \n        return suggestions\n    \n    def display_history(self):\n        if not self.iterations:\n            print(\"No ATLAS iterations found. Starting fresh!\")\n            return\n        \n        print(\"ATLAS Training History:\")\n        print(\"-\" * 80)\n        for i, iteration in enumerate(self.iterations):\n            exact = iteration['results'].get('best_exact', 0)\n            loss = iteration['results'].get('best_val_loss', float('inf'))\n            lr = iteration['parameters'].get('learning_rate', 0)\n            spatial_weight = iteration['parameters'].get('spatial_weight', 0)\n            timestamp = iteration['timestamp'][:16]\n            \n            status = \"BEST\" if iteration == self.get_best_iteration() else \"\"\n            print(f\"{status} Iter {i+1}: {exact:.2f}% exact | Loss: {loss:.4f} | LR: {lr:.4f} | Spatial: {spatial_weight:.1f} | {timestamp}\")\n        \n        print(\"-\" * 80)\n        best = self.get_best_iteration()\n        if best:\n            print(f\"Best: Iteration {best['iteration']} with {best['results']['best_exact']:.2f}% exact match\")\n\natlas_trainer = AtlasIterativeTrainer()\nsuggested_params = atlas_trainer.suggest_next_params()\natlas_trainer.display_history()\nprint(\"\\nATLAS trainer initialized. You can now run the training cells below.\")",
   "metadata": {},
   "outputs": []
  },
  {
   "cell_type": "code",
   "metadata": {},
   "outputs": [],
   "source": "# ATLAS Iterative Training\nimport subprocess\nimport tempfile\nimport os\n\nif 'atlas_trainer' not in globals():\n    print(\"Error: Run the trainer initialization cell first!\")\n    raise NameError(\"atlas_trainer not defined\")\n\nLEARNING_RATE = suggested_params.get('learning_rate', 0.005)\nBATCH_SIZE = suggested_params.get('batch_size', 512)\nEPOCHS_PER_STAGE = suggested_params.get('epochs_per_stage', 100)\nTRANSFORMATION_PENALTY = 0.5\nEXACT_MATCH_BONUS = 5.0\nGRADIENT_ACCUMULATION_STEPS = 4\nUSE_MEPT = True\nUSE_LEAP = True\nUSE_PRISM = True\nTARGET_ACCURACY = 95.0\n\nprint(f\"Starting ATLAS training iteration {len(atlas_trainer.iterations) + 1}\")\nprint(f\"Parameters: LR={LEARNING_RATE}, BS={BATCH_SIZE}, Epochs/Stage={EPOCHS_PER_STAGE}\")\nprint(f\"Loss weights: Transform penalty={TRANSFORMATION_PENALTY}, Exact bonus={EXACT_MATCH_BONUS}\")\nprint(f\"Features: MEPT={USE_MEPT}, LEAP={USE_LEAP}, PRISM={USE_PRISM}\")\nprint(f\"Target accuracy: {TARGET_ACCURACY}%\")\n\nmodified_script = f\"\"\"\nimport sys\nsys.path.append('/content/AutomataNexus_Olympus_AGI2')\nsys.path.append('/content/AutomataNexus_Olympus_AGI2/src')\n\nimport scripts.training.train_atlas as train_module\ntrain_module.LEARNING_RATE = {LEARNING_RATE}\ntrain_module.BATCH_SIZE = {BATCH_SIZE}\ntrain_module.EPOCHS_PER_STAGE = {EPOCHS_PER_STAGE}\ntrain_module.TRANSFORMATION_PENALTY = {TRANSFORMATION_PENALTY}\ntrain_module.EXACT_MATCH_BONUS = {EXACT_MATCH_BONUS}\ntrain_module.GRADIENT_ACCUMULATION_STEPS = {GRADIENT_ACCUMULATION_STEPS}\ntrain_module.USE_MEPT = {USE_MEPT}\ntrain_module.USE_LEAP = {USE_LEAP}\ntrain_module.USE_PRISM = {USE_PRISM}\n\ntry:\n    import scripts.training.stage0_exact_match_boost as boost_module\n    original_inject = boost_module.inject_exact_match_training\n    def inject_with_target(*args, **kwargs):\n        kwargs['target_accuracy'] = {TARGET_ACCURACY}\n        return original_inject(*args, **kwargs)\n    boost_module.inject_exact_match_training = inject_with_target\nexcept ImportError:\n    print(\"Warning: stage0_exact_match_boost not available\")\n\ntrain_module.train_atlas()\n\"\"\"\n\nwith tempfile.NamedTemporaryFile(mode='w', suffix='.py', delete=False) as f:\n    f.write(modified_script)\n    script_path = f.name\n\ntry:\n    print(\"Training timeout: 8 hours\")\n    result = subprocess.run(\n        ['python', script_path],\n        cwd='/content/AutomataNexus_Olympus_AGI2',\n        capture_output=True,\n        text=True,\n        timeout=28800\n    )\n    \n    print(\"ATLAS training output:\")\n    print(result.stdout)\n    if result.stderr:\n        print(\"Errors:\")\n        print(result.stderr)\n        \nfinally:\n    if os.path.exists(script_path):\n        os.unlink(script_path)"
  },
  {
   "cell_type": "markdown",
   "metadata": {},
   "source": [
    "## 🔧 Troubleshooting"
   ]
  },
  {
   "cell_type": "code",
   "metadata": {},
   "outputs": [],
   "source": "## Iterative Training & Hyperparameter Tuning\n\n**Enhanced Training Loop with Checkpoint Resuming**\n\nThis section allows you to:\n- Resume training from checkpoints\n- Adjust hyperparameters between iterations\n- Track performance improvements\n- Get automated suggestions for next iteration"
  },
  {
   "cell_type": "code",
   "source": "# Clear GPU memory if needed\nimport torch\nimport gc\n\ntorch.cuda.empty_cache()\ngc.collect()\n\nprint(f\"Allocated: {torch.cuda.memory_allocated() / 1e9:.2f} GB\")\nprint(f\"Reserved: {torch.cuda.memory_reserved() / 1e9:.2f} GB\")\nprint(f\"Free: {(torch.cuda.get_device_properties(0).total_memory - torch.cuda.memory_reserved()) / 1e9:.2f} GB\")",
   "metadata": {},
   "outputs": []
  },
  {
   "cell_type": "markdown",
   "source": "---\n\n## Training Complete!\n\nYour ATLAS model has been trained and saved to `/content/AutomataNexus_Olympus_AGI2/arc_models_v4/`\n\n**ATLAS Specialization:**\n- Geometric transformations\n- Rotation and reflection detection\n- Spatial pattern recognition\n\n**AutomataNexus OLYMPUS AGI2** - *Where Neural Networks Meet Symbolic Logic*",
   "metadata": {}
  },
  {
   "cell_type": "markdown",
   "metadata": {},
   "source": "## Iterative Training & Hyperparameter Tuning\n\n**Enhanced Training Loop with Checkpoint Resuming**\n\nThis section allows you to:\n- Resume training from checkpoints\n- Adjust hyperparameters between iterations\n- Track performance improvements\n- Get automated suggestions for next iteration",
   "outputs": []
  }
 ],
 "metadata": {
  "kernelspec": {
   "display_name": "Python 3",
   "language": "python",
   "name": "python3"
  },
  "language_info": {
   "codemirror_mode": {
    "name": "ipython",
    "version": 3
   },
   "file_extension": ".py",
   "mimetype": "text/x-python",
   "name": "python",
   "nbconvert_exporter": "python",
   "pygments_lexer": "ipython3",
   "version": "3.8.10"
  }
 },
 "nbformat": 4,
 "nbformat_minor": 4
}