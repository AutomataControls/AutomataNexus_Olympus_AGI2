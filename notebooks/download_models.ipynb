{
 "cells": [
  {
   "cell_type": "markdown",
   "metadata": {},
   "source": [
    "# 📥 Download Trained OLYMPUS Models\n",
    "\n",
    "This notebook provides multiple methods to download your trained models."
   ]
  },
  {
   "cell_type": "markdown",
   "metadata": {},
   "source": [
    "## Method 1: Create ZIP Archive and Download"
   ]
  },
  {
   "cell_type": "code",
   "execution_count": null,
   "metadata": {},
   "outputs": [],
   "source": [
    "# Run the download helper script\n",
    "!cd /content/AutomataNexus_Olympus_AGI2 && python scripts/download_models.py"
   ]
  },
  {
   "cell_type": "code",
   "execution_count": null,
   "metadata": {},
   "outputs": [],
   "source": [
    "# Download the zip file directly\n",
    "from google.colab import files\n",
    "import glob\n",
    "\n",
    "# Find the latest zip file\n",
    "zip_files = glob.glob('/content/downloads/olympus_models_*.zip')\n",
    "if zip_files:\n",
    "    latest_zip = sorted(zip_files)[-1]\n",
    "    print(f\"Downloading: {latest_zip}\")\n",
    "    files.download(latest_zip)\n",
    "else:\n",
    "    print(\"No zip file found. Run the previous cell first.\")"
   ]
  },
  {
   "cell_type": "markdown",
   "metadata": {},
   "source": [
    "## Method 2: Download Individual Model Files"
   ]
  },
  {
   "cell_type": "code",
   "execution_count": null,
   "metadata": {},
   "outputs": [],
   "source": [
    "# List all model files\n",
    "import os\n",
    "import glob\n",
    "\n",
    "models_dir = '/content/AutomataNexus_Olympus_AGI2/arc_models_v4'\n",
    "if os.path.exists(models_dir):\n",
    "    model_files = glob.glob(os.path.join(models_dir, '*.pt'))\n",
    "    print(f\"Found {len(model_files)} model files:\")\n",
    "    for f in sorted(model_files):\n",
    "        size_mb = os.path.getsize(f) / (1024 * 1024)\n",
    "        print(f\"  {os.path.basename(f)} - {size_mb:.1f} MB\")\n",
    "else:\n",
    "    print(\"Models directory not found!\")"
   ]
  },
  {
   "cell_type": "code",
   "execution_count": null,
   "metadata": {},
   "outputs": [],
   "source": [
    "# Download specific model files\n",
    "from google.colab import files\n",
    "\n",
    "# Download best models only\n",
    "best_models = [\n",
    "    'minerva_best.pt',\n",
    "    'atlas_best.pt', \n",
    "    'iris_best.pt',\n",
    "    'chronos_best.pt',\n",
    "    'prometheus_best.pt'\n",
    "]\n",
    "\n",
    "for model_name in best_models:\n",
    "    model_path = f'/content/AutomataNexus_Olympus_AGI2/arc_models_v4/{model_name}'\n",
    "    if os.path.exists(model_path):\n",
    "        print(f\"Downloading {model_name}...\")\n",
    "        try:\n",
    "            files.download(model_path)\n",
    "        except Exception as e:\n",
    "            print(f\"Failed to download {model_name}: {e}\")\n",
    "    else:\n",
    "        print(f\"{model_name} not found\")"
   ]
  },
  {
   "cell_type": "markdown",
   "metadata": {},
   "source": [
    "## Method 3: Copy to Google Drive"
   ]
  },
  {
   "cell_type": "code",
   "execution_count": null,
   "metadata": {},
   "outputs": [],
   "source": [
    "# Mount Google Drive\n",
    "from google.colab import drive\n",
    "drive.mount('/content/drive')"
   ]
  },
  {
   "cell_type": "code",
   "execution_count": null,
   "metadata": {},
   "outputs": [],
   "source": [
    "# Copy models to Google Drive\n",
    "import shutil\n",
    "import os\n",
    "from datetime import datetime\n",
    "\n",
    "# Create destination folder\n",
    "timestamp = datetime.now().strftime('%Y%m%d_%H%M%S')\n",
    "dest_folder = f'/content/drive/MyDrive/OLYMPUS_Models_{timestamp}'\n",
    "os.makedirs(dest_folder, exist_ok=True)\n",
    "\n",
    "# Copy entire models directory\n",
    "src_dir = '/content/AutomataNexus_Olympus_AGI2/arc_models_v4'\n",
    "if os.path.exists(src_dir):\n",
    "    print(f\"Copying models to Google Drive: {dest_folder}\")\n",
    "    shutil.copytree(src_dir, dest_folder, dirs_exist_ok=True)\n",
    "    print(\"✅ Models copied to Google Drive successfully!\")\n",
    "    print(f\"📂 Location: {dest_folder}\")\n",
    "else:\n",
    "    print(\"Source directory not found!\")"
   ]
  },
  {
   "cell_type": "markdown",
   "metadata": {},
   "source": [
    "## Method 4: Create Download Links (Alternative)"
   ]
  },
  {
   "cell_type": "code",
   "execution_count": null,
   "metadata": {},
   "outputs": [],
   "source": [
    "# Create a simple HTTP server for downloads (run in background)\n",
    "import subprocess\n",
    "import time\n",
    "\n",
    "# Kill any existing servers\n",
    "!pkill -f \"python -m http.server\"\n",
    "\n",
    "# Start HTTP server\n",
    "server_process = subprocess.Popen(\n",
    "    ['python', '-m', 'http.server', '8888'],\n",
    "    cwd='/content/AutomataNexus_Olympus_AGI2/arc_models_v4'\n",
    ")\n",
    "\n",
    "time.sleep(2)\n",
    "\n",
    "# Get public URL (works in Colab)\n",
    "from google.colab.output import eval_js\n",
    "print(\"Setting up download server...\")\n",
    "\n",
    "# Note: You'll need to get the URL from Colab's \"Local\" runtime option\n",
    "print(\"\\n⚠️ To download via HTTP:\")\n",
    "print(\"1. In Colab menu: Tools → Settings → Miscellaneous → Enable 'Local' runtime\")\n",
    "print(\"2. The server is running on http://localhost:8888\")\n",
    "print(\"3. You can download files directly from there\")\n",
    "print(\"\\n📌 Or use ngrok for public access (requires setup)\")"
   ]
  },
  {
   "cell_type": "markdown",
   "metadata": {},
   "source": [
    "## Method 5: Using TAR Archive (For Large Files)"
   ]
  },
  {
   "cell_type": "code",
   "execution_count": null,
   "metadata": {},
   "outputs": [],
   "source": [
    "# Create TAR archive (better for large files)\n",
    "import tarfile\n",
    "import os\n",
    "from datetime import datetime\n",
    "\n",
    "models_dir = '/content/AutomataNexus_Olympus_AGI2/arc_models_v4'\n",
    "timestamp = datetime.now().strftime('%Y%m%d_%H%M%S')\n",
    "tar_filename = f'/content/olympus_models_{timestamp}.tar.gz'\n",
    "\n",
    "if os.path.exists(models_dir):\n",
    "    print(f\"Creating TAR archive: {tar_filename}\")\n",
    "    with tarfile.open(tar_filename, 'w:gz') as tar:\n",
    "        tar.add(models_dir, arcname='arc_models_v4')\n",
    "    \n",
    "    size_mb = os.path.getsize(tar_filename) / (1024 * 1024)\n",
    "    print(f\"✅ Archive created: {tar_filename} ({size_mb:.1f} MB)\")\n",
    "    \n",
    "    # Try to download\n",
    "    from google.colab import files\n",
    "    print(\"Attempting download...\")\n",
    "    try:\n",
    "        files.download(tar_filename)\n",
    "    except Exception as e:\n",
    "        print(f\"Download failed: {e}\")\n",
    "        print(\"Try copying to Google Drive instead\")"
   ]
  },
  {
   "cell_type": "markdown",
   "metadata": {},
   "source": [
    "## 🔧 Troubleshooting Download Issues\n",
    "\n",
    "If you're getting \"Failed to fetch\" errors:\n",
    "\n",
    "1. **File Size Issues**: Large files (>100MB) often fail. Try:\n",
    "   - Download individual model files instead of all at once\n",
    "   - Use Google Drive method (most reliable)\n",
    "   - Split into smaller archives\n",
    "\n",
    "2. **Browser Issues**: Try:\n",
    "   - Use Chrome (works best with Colab)\n",
    "   - Disable ad blockers\n",
    "   - Clear browser cache\n",
    "   - Use incognito mode\n",
    "\n",
    "3. **Colab Runtime Issues**: Try:\n",
    "   - Restart runtime and try again\n",
    "   - Factory reset runtime\n",
    "   - Use a fresh Colab notebook\n",
    "\n",
    "4. **Alternative Solutions**:\n",
    "   - Use `!wget` or `!curl` from another server\n",
    "   - Use Google Cloud Storage\n",
    "   - Use GitHub releases (for smaller files)\n",
    "   - Use transfer services like WeTransfer"
   ]
  }
 ],
 "metadata": {
  "kernelspec": {
   "display_name": "Python 3",
   "language": "python",
   "name": "python3"
  },
  "language_info": {
   "codemirror_mode": {
    "name": "ipython",
    "version": 3
   },
   "file_extension": ".py",
   "mimetype": "text/x-python",
   "name": "python",
   "nbconvert_exporter": "python",
   "pygments_lexer": "ipython3",
   "version": "3.8.0"
  }
 },
 "nbformat": 4,
 "nbformat_minor": 4
}