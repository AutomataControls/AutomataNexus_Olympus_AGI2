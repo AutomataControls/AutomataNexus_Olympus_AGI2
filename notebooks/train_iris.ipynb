{
 "cells": [
  {
   "cell_type": "markdown",
   "metadata": {},
   "source": "# IRIS Model Training\n\n**Color Pattern Recognition Specialist**\n\nThis notebook trains the IRIS model, which specializes in:\n- Color relationships and mappings\n- Conditional color transformations\n- Pattern-based color rules\n- Color embedding techniques\n- Context-dependent recoloring",
   "outputs": []
  },
  {
   "cell_type": "markdown",
   "metadata": {},
   "source": "## Setup Environment",
   "outputs": []
  },
  {
   "cell_type": "code",
   "execution_count": null,
   "metadata": {},
   "outputs": [],
   "source": [
    "# Clone repository and install dependencies\n",
    "!git clone https://github.com/AutomataControls/AutomataNexus_Olympus_AGI2.git /content/AutomataNexus_Olympus_AGI2\n",
    "!cd /content/AutomataNexus_Olympus_AGI2 && pip install -r requirements.txt -q"
   ]
  },
  {
   "cell_type": "code",
   "execution_count": null,
   "metadata": {},
   "outputs": [],
   "source": [
    "# Verify environment\n",
    "import torch\n",
    "print(f\"PyTorch Version: {torch.__version__}\")\n",
    "print(f\"CUDA Available: {torch.cuda.is_available()}\")\n",
    "if torch.cuda.is_available():\n",
    "    print(f\"GPU: {torch.cuda.get_device_name(0)}\")\n",
    "    print(f\"Memory: {torch.cuda.get_device_properties(0).total_memory / 1e9:.2f} GB\")"
   ]
  },
  {
   "cell_type": "code",
   "source": "# 🔧 Initialize IRIS Specialized Training Controller (RUN THIS FIRST!)\nimport json\nimport os\nimport datetime\nfrom typing import Dict, List\n\nclass IrisSpecializedTrainer:\n    def __init__(self, base_dir='/content/AutomataNexus_Olympus_AGI2'):\n        self.base_dir = base_dir\n        self.iteration_log_file = f\"{base_dir}/arc_models_v4/iris_specialized_iterations.json\"\n        self.current_params = self.load_default_params()\n        self.iterations = self.load_iteration_history()\n    \n    def load_default_params(self) -> Dict:\n        return {\n            'batch_size': 384,  # IRIS-optimized larger batch for color processing\n            'learning_rate': 0.006,  # Moderate for color attention learning\n            'color_embed_dim': 64,\n            'color_attention_heads': 4,\n            'epochs_per_stage': 100,\n            'transform_penalty': 0.3,  # Lower - IRIS should do color transformations\n            'exact_match_bonus': 8.0,  # Higher for color precision\n            'color_mapping_weight': 0.5,  # IRIS-specific loss\n            'color_consistency_weight': 0.4,  # IRIS-specific loss\n            'color_diversity_weight': 0.2,  # Encourage diverse color usage\n            'lstm_rule_weight': 0.3,  # Pattern-based rule learning\n            'gradient_accumulation': 2,  # Effective batch: 768\n            'use_mept': True,\n            'use_leap': True,\n            'use_prism': True,\n            'use_exact_boost': True,\n            'curriculum_stages': 3,\n            'max_grid_size': 30\n        }\n    \n    def load_iteration_history(self) -> List[Dict]:\n        if os.path.exists(self.iteration_log_file):\n            with open(self.iteration_log_file, 'r') as f:\n                return json.load(f)\n        return []\n    \n    def save_iteration_history(self):\n        os.makedirs(os.path.dirname(self.iteration_log_file), exist_ok=True)\n        with open(self.iteration_log_file, 'w') as f:\n            json.dump(self.iterations, f, indent=2)\n    \n    def log_iteration(self, params: Dict, results: Dict):\n        iteration = {\n            'iteration': len(self.iterations) + 1,\n            'timestamp': datetime.datetime.now().isoformat(),\n            'parameters': params.copy(),\n            'results': results.copy()\n        }\n        self.iterations.append(iteration)\n        self.save_iteration_history()\n    \n    def get_best_iteration(self) -> Dict:\n        if not self.iterations:\n            return None\n        return max(self.iterations, key=lambda x: x['results'].get('best_exact', 0))\n    \n    def suggest_next_params(self) -> Dict:\n        if len(self.iterations) < 2:\n            return self.current_params.copy()\n        \n        best = self.get_best_iteration()\n        latest = self.iterations[-1]\n        \n        suggestions = best['parameters'].copy() if best else self.current_params.copy()\n        \n        if latest and best:\n            latest_exact = latest['results'].get('best_exact', 0)\n            best_exact = best['results'].get('best_exact', 0)\n            \n            if latest_exact < 3.0:  # Very low performance\n                suggestions['learning_rate'] = min(0.008, suggestions['learning_rate'] * 1.3)\n                suggestions['color_mapping_weight'] = min(0.8, suggestions['color_mapping_weight'] + 0.1)\n                suggestions['exact_match_bonus'] = min(10.0, suggestions['exact_match_bonus'] + 1.0)\n            elif latest_exact < best_exact * 0.8:\n                suggestions['learning_rate'] *= 0.8\n                suggestions['color_consistency_weight'] = min(0.6, suggestions['color_consistency_weight'] + 0.1)\n            elif latest_exact > best_exact * 1.1:\n                suggestions['learning_rate'] = min(0.008, suggestions['learning_rate'] * 1.2)\n                suggestions['color_diversity_weight'] = min(0.4, suggestions['color_diversity_weight'] + 0.1)\n        \n        return suggestions\n    \n    def display_history(self):\n        if not self.iterations:\n            print(\"No IRIS specialized iterations found. Starting fresh!\")\n            return\n        \n        print(\"🎨 IRIS Specialized Training History:\")\n        print(\"-\" * 95)\n        for i, iteration in enumerate(self.iterations):\n            exact = iteration['results'].get('best_exact', 0)\n            loss = iteration['results'].get('best_val_loss', float('inf'))\n            lr = iteration['parameters'].get('learning_rate', 0)\n            color_map = iteration['parameters'].get('color_mapping_weight', 0)\n            color_cons = iteration['parameters'].get('color_consistency_weight', 0)\n            timestamp = iteration['timestamp'][:16]\n            \n            status = \"🟢 BEST\" if iteration == self.get_best_iteration() else \"⚪\"\n            print(f\"{status} Iter {i+1}: {exact:.2f}% exact | Loss: {loss:.4f} | LR: {lr:.4f} | Map: {color_map:.2f} | Cons: {color_cons:.2f} | {timestamp}\")\n        \n        print(\"-\" * 95)\n        best = self.get_best_iteration()\n        if best:\n            print(f\"🏆 Best: Iteration {best['iteration']} with {best['results']['best_exact']:.2f}% exact match\")\n        \n        print(f\"\\n🎨 IRIS Specialized Features:\")\n        print(f\"   ✅ Color Embeddings: {self.current_params['color_embed_dim']} dimensions\")\n        print(f\"   ✅ Color Attention: {self.current_params['color_attention_heads']} heads\")\n        print(f\"   ✅ Color Mapping Loss: {self.current_params['color_mapping_weight']}\")\n        print(f\"   ✅ Color Consistency Loss: {self.current_params['color_consistency_weight']}\")\n        print(f\"   ✅ LSTM Rule Learning: {self.current_params['lstm_rule_weight']}\")\n\niris_specialized_trainer = IrisSpecializedTrainer()\nsuggested_params = iris_specialized_trainer.suggest_next_params()\niris_specialized_trainer.display_history()\nprint(\"\\n✅ IRIS specialized trainer initialized! Ready for color pattern training.\")",
   "metadata": {},
   "outputs": []
  },
  {
   "cell_type": "markdown",
   "metadata": {},
   "source": "## Pull Latest Updates and Start IRIS Specialized Training\n\n**IRIS-Specific Configuration:**\n- **Architecture**: Color Embeddings + Color Attention + 10x10 Color Mapping Matrix\n- **Parameters**: ~0.9M\n- **Batch Size**: 384 (optimized for color processing efficiency)\n- **Learning Rate**: 0.006 (moderate for color attention learning)\n- **Color Embeddings**: 64 dimensions\n- **Color Attention**: 4 heads\n- **Specialized Loss Components**: Color mapping + Color consistency + Color diversity + LSTM rules\n- **ALL Novel Training Methods**: MEPT, LEAP, PRISM, Exact Match Injection, Curriculum Learning",
   "outputs": []
  },
  {
   "cell_type": "code",
   "source": "# Pull latest repository updates\n!cd /content/AutomataNexus_Olympus_AGI2 && git pull",
   "metadata": {},
   "outputs": []
  },
  {
   "cell_type": "code",
   "metadata": {},
   "outputs": [],
   "source": "# Train IRIS model with specialized trainer\n!cd /content/AutomataNexus_Olympus_AGI2 && python scripts/training/train_iris_specialized.py"
  },
  {
   "cell_type": "markdown",
   "metadata": {},
   "source": "## Monitor Training Progress",
   "outputs": []
  },
  {
   "cell_type": "code",
   "metadata": {},
   "outputs": [],
   "source": "# IRIS Specialized Training Execution\nimport subprocess\nimport tempfile\nimport os\n\nif 'iris_specialized_trainer' not in globals():\n    print(\"Error: Run the specialized trainer initialization cell first!\")\n    raise NameError(\"iris_specialized_trainer not defined\")\n\n# Use suggested parameters from the specialized trainer\nBATCH_SIZE = suggested_params.get('batch_size', 384)\nLEARNING_RATE = suggested_params.get('learning_rate', 0.006)\nCOLOR_EMBED_DIM = suggested_params.get('color_embed_dim', 64)\nCOLOR_ATTENTION_HEADS = suggested_params.get('color_attention_heads', 4)\nEPOCHS_PER_STAGE = suggested_params.get('epochs_per_stage', 100)\nTRANSFORM_PENALTY = suggested_params.get('transform_penalty', 0.3)\nEXACT_MATCH_BONUS = suggested_params.get('exact_match_bonus', 8.0)\nCOLOR_MAPPING_WEIGHT = suggested_params.get('color_mapping_weight', 0.5)\nCOLOR_CONSISTENCY_WEIGHT = suggested_params.get('color_consistency_weight', 0.4)\nCOLOR_DIVERSITY_WEIGHT = suggested_params.get('color_diversity_weight', 0.2)\nLSTM_RULE_WEIGHT = suggested_params.get('lstm_rule_weight', 0.3)\nGRADIENT_ACCUMULATION = suggested_params.get('gradient_accumulation', 2)\nMAX_GRID_SIZE = suggested_params.get('max_grid_size', 30)\n\nprint(f\"🎨 Starting IRIS specialized training iteration {len(iris_specialized_trainer.iterations) + 1}\")\nprint(f\"Color Config: LR={LEARNING_RATE}, BS={BATCH_SIZE}, Embed={COLOR_EMBED_DIM}\")\nprint(f\"Color Attention: {COLOR_ATTENTION_HEADS} heads, Grid Size: {MAX_GRID_SIZE}\")\nprint(f\"Loss Components: Mapping={COLOR_MAPPING_WEIGHT}, Consistency={COLOR_CONSISTENCY_WEIGHT}\")\nprint(f\"Transform Penalty={TRANSFORM_PENALTY}, Exact Bonus={EXACT_MATCH_BONUS}\")\n\nmodified_script = f\"\"\"\nimport sys\nsys.path.append('/content/AutomataNexus_Olympus_AGI2')\nsys.path.append('/content/AutomataNexus_Olympus_AGI2/src')\n\nimport scripts.training.train_iris_specialized as train_module\n\n# Override IRIS config with current parameters\ntrain_module.IRIS_CONFIG['batch_size'] = {BATCH_SIZE}\ntrain_module.IRIS_CONFIG['learning_rate'] = {LEARNING_RATE}\ntrain_module.IRIS_CONFIG['color_embed_dim'] = {COLOR_EMBED_DIM}\ntrain_module.IRIS_CONFIG['color_attention_heads'] = {COLOR_ATTENTION_HEADS}\ntrain_module.IRIS_CONFIG['epochs_per_stage'] = {EPOCHS_PER_STAGE}\ntrain_module.IRIS_CONFIG['transform_penalty'] = {TRANSFORM_PENALTY}\ntrain_module.IRIS_CONFIG['exact_match_bonus'] = {EXACT_MATCH_BONUS}\ntrain_module.IRIS_CONFIG['color_mapping_weight'] = {COLOR_MAPPING_WEIGHT}\ntrain_module.IRIS_CONFIG['color_consistency_weight'] = {COLOR_CONSISTENCY_WEIGHT}\ntrain_module.IRIS_CONFIG['color_diversity_weight'] = {COLOR_DIVERSITY_WEIGHT}\ntrain_module.IRIS_CONFIG['lstm_rule_weight'] = {LSTM_RULE_WEIGHT}\ntrain_module.IRIS_CONFIG['gradient_accumulation'] = {GRADIENT_ACCUMULATION}\ntrain_module.IRIS_CONFIG['max_grid_size'] = {MAX_GRID_SIZE}\n\nprint(\"🎨 IRIS Config Updated:\")\nfor key, value in train_module.IRIS_CONFIG.items():\n    print(f\"   {key}: {value}\")\n\n# Start specialized training\ntry:\n    model, best_exact = train_module.train_iris_specialized()\n    print(f\"\\\\n🎉 IRIS specialized training completed! Best: {best_exact:.2f}%\")\nexcept Exception as e:\n    print(f\"❌ Training failed: {e}\")\n    import traceback\n    traceback.print_exc()\n\"\"\"\n\nwith tempfile.NamedTemporaryFile(mode='w', suffix='.py', delete=False) as f:\n    f.write(modified_script)\n    script_path = f.name\n\ntry:\n    print(\"🎨 IRIS specialized training timeout: 10 hours\")\n    result = subprocess.run(\n        ['python', script_path],\n        cwd='/content/AutomataNexus_Olympus_AGI2',\n        capture_output=True,\n        text=True,\n        timeout=36000  # 10 hours\n    )\n    \n    print(\"IRIS specialized training output:\")\n    print(result.stdout)\n    if result.stderr:\n        print(\"Errors:\")\n        print(result.stderr)\n        \nfinally:\n    if os.path.exists(script_path):\n        os.unlink(script_path)"
  },
  {
   "cell_type": "code",
   "execution_count": null,
   "metadata": {},
   "outputs": [],
   "source": [
    "# Clear GPU memory if needed\n",
    "import torch\n",
    "import gc\n",
    "\n",
    "torch.cuda.empty_cache()\n",
    "gc.collect()\n",
    "\n",
    "print(f\"Allocated: {torch.cuda.memory_allocated() / 1e9:.2f} GB\")\n",
    "print(f\"Reserved: {torch.cuda.memory_reserved() / 1e9:.2f} GB\")\n",
    "print(f\"Free: {(torch.cuda.get_device_properties(0).total_memory - torch.cuda.memory_reserved()) / 1e9:.2f} GB\")"
   ]
  },
  {
   "cell_type": "markdown",
   "metadata": {},
   "source": "# Load and evaluate IRIS specialized model\nimport torch\nimport json\nimport glob\nimport os\n\nmodel_files = glob.glob('/content/AutomataNexus_Olympus_AGI2/models/iris_specialized_best.pth')\n\nif model_files:\n    model_file = model_files[0]\n    checkpoint = torch.load(model_file, map_location='cpu')\n    \n    print(\"🎨 IRIS Specialized Training Results:\")\n    print(f\"  Best Validation Exact Match: {checkpoint.get('val_exact', 'N/A'):.2f}%\")\n    print(f\"  Training Epoch: {checkpoint.get('epoch', 'N/A')}\")\n    print(f\"  Curriculum Stage: {checkpoint.get('stage', 'N/A')}\")\n    print(f\"  Model Size: {os.path.getsize(model_file) / (1024**2):.1f} MB\")\n    \n    # Display IRIS-specific config\n    config = checkpoint.get('config', {})\n    if config:\n        print(f\"\\n🎨 IRIS Specialized Configuration:\")\n        print(f\"  Color Embed Dim: {config.get('color_embed_dim', 'N/A')}\")\n        print(f\"  Color Attention Heads: {config.get('color_attention_heads', 'N/A')}\")\n        print(f\"  Color Mapping Weight: {config.get('color_mapping_weight', 'N/A')}\")\n        print(f\"  Color Consistency Weight: {config.get('color_consistency_weight', 'N/A')}\")\n        print(f\"  Color Diversity Weight: {config.get('color_diversity_weight', 'N/A')}\")\n        print(f\"  LSTM Rule Weight: {config.get('lstm_rule_weight', 'N/A')}\")\n        \nelse:\n    print(\"❌ IRIS specialized model not found. Training may still be in progress.\")\n\n# Check for specialized training logs\niteration_files = glob.glob('/content/AutomataNexus_Olympus_AGI2/arc_models_v4/iris_specialized_iterations.json')\nif iteration_files:\n    with open(iteration_files[0], 'r') as f:\n        iterations = json.load(f)\n    \n    if iterations:\n        latest = iterations[-1]\n        print(f\"\\n📊 Latest IRIS Specialized Training Iteration:\")\n        print(f\"  Iteration: {latest['iteration']}\")\n        print(f\"  Best Exact Match: {latest['results'].get('best_exact', 'N/A'):.2f}%\")\n        print(f\"  Best Validation Loss: {latest['results'].get('best_val_loss', 'N/A'):.4f}\")\n        print(f\"  Learning Rate Used: {latest['parameters'].get('learning_rate', 'N/A'):.4f}\")\n        print(f\"  Batch Size: {latest['parameters'].get('batch_size', 'N/A')}\")\n        print(f\"  Timestamp: {latest['timestamp']}\")\n\nprint(f\"\\n🔗 Model Files Location: /content/AutomataNexus_Olympus_AGI2/models/\")\nprint(f\"🔗 Training Logs: /content/AutomataNexus_Olympus_AGI2/arc_models_v4/\")",
   "outputs": []
  },
  {
   "cell_type": "markdown",
   "source": "## Troubleshooting\n\nIf you encounter issues:",
   "metadata": {}
  },
  {
   "cell_type": "code",
   "source": "# Clear GPU memory if needed\nimport torch\nimport gc\n\ntorch.cuda.empty_cache()\ngc.collect()\n\nprint(f\"Allocated: {torch.cuda.memory_allocated() / 1e9:.2f} GB\")\nprint(f\"Reserved: {torch.cuda.memory_reserved() / 1e9:.2f} GB\")\nprint(f\"Free: {(torch.cuda.get_device_properties(0).total_memory - torch.cuda.memory_reserved()) / 1e9:.2f} GB\")",
   "metadata": {},
   "outputs": []
  },
  {
   "cell_type": "markdown",
   "source": "---\n\n## IRIS Specialized Training Complete!\n\nYour IRIS model has been trained with its own specialized color-focused trainer and saved to `/content/AutomataNexus_Olympus_AGI2/models/`\n\n**IRIS Specializations:**\n- ✅ Color embeddings (64 dimensions) for all 10 colors\n- ✅ Color attention mechanism with 4 heads\n- ✅ 10x10 color mapping matrix for transformations\n- ✅ Color consistency loss for spatial neighborhoods\n- ✅ Color diversity loss for varied color usage\n- ✅ LSTM rule learning for pattern-based color rules\n- ✅ ALL novel training methods integrated (MEPT, LEAP, PRISM, Exact Match Injection)\n\n**Next Steps:**\n- Create specialized trainers for ATLAS, CHRONOS, PROMETHEUS\n- Each model needs architecture-matched training approach\n- Build final ensemble trainer after individual models are optimized\n- Test specialized models on ARC evaluation tasks\n\n**AutomataNexus OLYMPUS AGI2** - *Specialized Neural Architectures with Matched Training Methods*",
   "metadata": {},
   "outputs": []
  }
 ],
 "metadata": {
  "kernelspec": {
   "display_name": "Python 3",
   "language": "python",
   "name": "python3"
  },
  "language_info": {
   "codemirror_mode": {
    "name": "ipython",
    "version": 3
   },
   "file_extension": ".py",
   "mimetype": "text/x-python",
   "name": "python",
   "nbconvert_exporter": "python",
   "pygments_lexer": "ipython3",
   "version": "3.8.10"
  }
 },
 "nbformat": 4,
 "nbformat_minor": 4
}