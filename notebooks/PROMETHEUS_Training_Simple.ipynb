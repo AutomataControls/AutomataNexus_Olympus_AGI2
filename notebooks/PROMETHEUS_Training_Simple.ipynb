{
 "cells": [
  {
   "cell_type": "markdown",
   "metadata": {},
   "source": [
    "# PROMETHEUS Training Simple\n",
    "## Meta-Learning & Ensemble Coordination Expert\n",
    "\n",
    "**PROMETHEUS** specializes in:\n",
    "- Meta-learning across different problem domains\n",
    "- Ensemble coordination of the 4 specialized models (IRIS, MINERVA, CHRONOS, ATLAS)\n",
    "- Few-shot learning and adaptation\n",
    "- Cross-domain knowledge transfer\n",
    "\n",
    "This notebook provides a simple interface to train PROMETHEUS using the specialized training pipeline with CHRONOS-style massive datasets and meta-learning focus."
   ]
  },
  {
   "cell_type": "markdown",
   "metadata": {},
   "source": [
    "## Step 1: Clone Repository"
   ]
  },
  {
   "cell_type": "code",
   "execution_count": null,
   "metadata": {},
   "outputs": [],
   "source": [
    "import os\n",
    "if not os.path.exists('/content/AutomataNexus_Olympus_AGI2'):\n",
    "    !git clone https://github.com/AutomataControls/AutomataNexus_Olympus_AGI2.git /content/AutomataNexus_Olympus_AGI2\n",
    "else:\n",
    "    print(\"✅ Repository already exists\")\n",
    "    \n",
    "os.chdir('/content/AutomataNexus_Olympus_AGI2')"
   ]
  },
  {
   "cell_type": "markdown",
   "metadata": {},
   "source": [
    "## Step 2: Update Repository"
   ]
  },
  {
   "cell_type": "code",
   "execution_count": null,
   "metadata": {},
   "outputs": [],
   "source": [
    "# Pull latest changes\n",
    "!git pull origin main\n",
    "\n",
    "# Install any new dependencies\n",
    "!pip install -r requirements.txt --quiet\n",
    "\n",
    "print(\"✅ Repository updated and dependencies installed\")"
   ]
  },
  {
   "cell_type": "markdown",
   "metadata": {},
   "source": [
    "## Step 3: Execute PROMETHEUS Training"
   ]
  },
  {
   "cell_type": "code",
   "execution_count": null,
   "metadata": {},
   "outputs": [],
   "source": [
    "# Import and run PROMETHEUS specialized training\n",
    "import sys\n",
    "sys.path.append('/content/AutomataNexus_Olympus_AGI2')\n",
    "\n",
    "print(\"🚀 Starting PROMETHEUS Specialized Training...\")\n",
    "print(\"🧠 Focus: Meta-Learning & Ensemble Coordination\")\n",
    "print(\"📊 CHRONOS-style massive dataset approach\")\n",
    "print(\"🔧 4-Phase injection: Exact Match → MEPT → LEAP → PRISM\")\n",
    "print(\"📈 8-Stage curriculum: 6x6 → 30x30 grids\")\n",
    "print(\"=\"*60)\n",
    "\n",
    "# Execute training script\n",
    "!python /content/AutomataNexus_Olympus_AGI2/scripts/training/train_prometheus_specialized.py"
   ]
  },
  {
   "cell_type": "markdown",
   "metadata": {},
   "source": [
    "## Step 4: Download Trained Model"
   ]
  },
  {
   "cell_type": "code",
   "execution_count": null,
   "metadata": {},
   "outputs": [],
   "source": [
    "import os\n",
    "from google.colab import files\n",
    "import shutil\n",
    "import zipfile\n",
    "\n",
    "# Create models directory if it doesn't exist\n",
    "models_dir = '/content/AutomataNexus_Olympus_AGI2/arc_models_v4'\n",
    "os.makedirs(models_dir, exist_ok=True)\n",
    "\n",
    "# Check if model exists\n",
    "model_path = f'{models_dir}/prometheus_best.pt'\n",
    "if os.path.exists(model_path):\n",
    "    print(f\"📁 Model found: {model_path}\")\n",
    "    \n",
    "    # Get model size\n",
    "    model_size = os.path.getsize(model_path) / (1024 * 1024)  # MB\n",
    "    print(f\"📊 Model size: {model_size:.2f} MB\")\n",
    "    \n",
    "    # Create zip file with model and training info\n",
    "    zip_path = '/content/prometheus_model.zip'\n",
    "    with zipfile.ZipFile(zip_path, 'w', zipfile.ZIP_DEFLATED) as zipf:\n",
    "        zipf.write(model_path, 'prometheus_best.pt')\n",
    "        \n",
    "        # Add training logs if they exist\n",
    "        logs_path = f'{models_dir}/prometheus_training.log'\n",
    "        if os.path.exists(logs_path):\n",
    "            zipf.write(logs_path, 'prometheus_training.log')\n",
    "    \n",
    "    print(\"📦 Created model package: prometheus_model.zip\")\n",
    "    \n",
    "    # Download the model\n",
    "    try:\n",
    "        files.download(zip_path)\n",
    "        print(\"✅ Model download initiated\")\n",
    "    except Exception as e:\n",
    "        print(f\"⚠️ Download failed: {e}\")\n",
    "        print(f\"💡 Model is available at: {model_path}\")\nelse:\n",
    "    print(\"❌ Model not found. Training may have failed or is still in progress.\")\n",
    "    print(\"🔍 Checking for any model files...\")\n",
    "    \n",
    "    # List all files in models directory\n",
    "    if os.path.exists(models_dir):\n",
    "        files_in_dir = os.listdir(models_dir)\n",
    "        if files_in_dir:\n",
    "            print(f\"📁 Files found in {models_dir}:\")\n",
    "            for file in files_in_dir:\n",
    "                if file.endswith('.pt'):\n",
    "                    file_path = os.path.join(models_dir, file)\n",
    "                    file_size = os.path.getsize(file_path) / (1024 * 1024)\n",
    "                    print(f\"  📄 {file} ({file_size:.2f} MB)\")\n",
    "        else:\n",
    "            print(f\"📁 Directory {models_dir} is empty\")\n",
    "    else:\n",
    "        print(f\"📁 Directory {models_dir} does not exist\")"
   ]
  },
  {
   "cell_type": "markdown",
   "metadata": {},
   "source": [
    "## Step 5: Training Metrics & Analysis"
   ]
  },
  {
   "cell_type": "code",
   "execution_count": null,
   "metadata": {},
   "outputs": [],
   "source": [
    "import torch\n",
    "import matplotlib.pyplot as plt\n",
    "import json\n",
    "\n",
    "models_dir = '/content/AutomataNexus_Olympus_AGI2/arc_models_v4'\n",
    "model_path = f'{models_dir}/prometheus_best.pt'\n",
    "\n",
    "if os.path.exists(model_path):\n",
    "    # Load model checkpoint\n",
    "    checkpoint = torch.load(model_path, map_location='cpu')\n",
    "    \n",
    "    print(\"🎯 PROMETHEUS Training Results\")\n",
    "    print(\"=\"*50)\n",
    "    \n",
    "    # Display training metrics\n",
    "    if 'best_exact' in checkpoint:\n",
    "        print(f\"🏆 Best Exact Match: {checkpoint['best_exact']:.2f}%\")\n",
    "    \n",
    "    if 'epoch' in checkpoint:\n",
    "        print(f\"📊 Training Epochs: {checkpoint['epoch']+1}\")\n",
    "    \n",
    "    if 'stage' in checkpoint:\n",
    "        print(f\"📈 Curriculum Stage: {checkpoint['stage']} (Grid size up to {[6,8,10,12,15,19,25,30][min(checkpoint['stage'], 7)]}x{[6,8,10,12,15,19,25,30][min(checkpoint['stage'], 7)]})\")\n",
    "    \n",
    "    # Model information\n",
    "    model_params = sum(p.numel() for p in checkpoint['model_state_dict'].values() if p.numel() > 1)\n",
    "    print(f\"🧠 Model Parameters: {model_params:,}\")\n",
    "    \n",
    "    # Configuration\n",
    "    if 'config' in checkpoint:\n",
    "        config = checkpoint['config']\n",
    "        print(f\"⚙️ Learning Rate: {config.get('learning_rate', 'N/A')}\")\n",
    "        print(f\"⚙️ Batch Size: {config.get('batch_size', 'N/A')}\")\n",
    "        print(f\"⚙️ Meta-Learning Rate: {config.get('meta_learning_rate', 'N/A')}\")\n",
    "        print(f\"⚙️ Ensemble Weight: {config.get('ensemble_weight', 'N/A')}\")\n",
    "    \n",
    "    print(\"\\n🧠 PROMETHEUS Capabilities:\")\n",
    "    print(\"  • Meta-learning across problem domains\")\n",
    "    print(\"  • 5-model ensemble coordination (IRIS, MINERVA, CHRONOS, ATLAS + self)\")\n",
    "    print(\"  • Few-shot learning and rapid adaptation\")\n",
    "    print(\"  • Cross-domain knowledge transfer\")\n",
    "    print(\"  • Abstract reasoning and pattern completion\")\n",
    "    print(\"  • Hierarchical problem decomposition\")\n",
    "    \n",
    "    # Training phases completed\n",
    "    print(\"\\n🎯 Training Phases Completed:\")\n",
    "    print(\"  ✅ Phase 1: Meta-Learning Exact Match Injection\")\n",
    "    print(\"  ✅ Phase 2: MEPT - Meta-Learning Memory Enhancement\")\n",
    "    print(\"  ✅ Phase 3: LEAP - Adaptive Meta-Learning\")\n",
    "    print(\"  ✅ Phase 4: PRISM - Meta-Program Synthesis\")\n",
    "    print(\"  ✅ 8-Stage Progressive Curriculum (6x6 → 30x30)\")\n",
    "    \n",
    "else:\n",
    "    print(\"❌ No model checkpoint found\")\n",
    "    print(\"🔄 Training may still be in progress or may have encountered errors\")\n",
    "    \n",
    "    # Check for any training outputs\n",
    "    print(\"\\n🔍 Checking for training outputs...\")\n",
    "    if os.path.exists('/content/AutomataNexus_Olympus_AGI2'):\n",
    "        # Look for any .pt files\n",
    "        import glob\n",
    "        pt_files = glob.glob('/content/AutomataNexus_Olympus_AGI2/**/*.pt', recursive=True)\n",
    "        if pt_files:\n",
    "            print(\"📄 Found model files:\")\n",
    "            for pt_file in pt_files:\n",
    "                size = os.path.getsize(pt_file) / (1024 * 1024)\n",
    "                print(f\"  {pt_file} ({size:.2f} MB)\")\n",
    "        else:\n",
    "            print(\"📄 No .pt model files found\")"
   ]
  },
  {
   "cell_type": "markdown",
   "metadata": {},
   "source": [
    "---\n",
    "\n",
    "## 🎯 PROMETHEUS Training Summary\n",
    "\n",
    "**PROMETHEUS** is the meta-learning and ensemble coordination specialist in the OLYMPUS AGI2 system.\n",
    "\n",
    "### Key Features:\n",
    "- **Meta-Learning**: Learns to learn from few examples across different domains\n",
    "- **Ensemble Coordination**: Orchestrates the 4 specialized models (IRIS, MINERVA, CHRONOS, ATLAS)\n",
    "- **Adaptation**: Rapidly adapts to new problem types and contexts\n",
    "- **Knowledge Transfer**: Transfers insights between different problem domains\n",
    "\n",
    "### Training Approach:\n",
    "- **4-Phase Injection**: Exact Match → MEPT → LEAP → PRISM\n",
    "- **8-Stage Curriculum**: Progressive grid size increase (6x6 → 30x30)\n",
    "- **CHRONOS-style**: Massive dataset generation (50,000+ samples)\n",
    "- **Meta-Learning Focus**: 40% meta-learning, 30% ensemble coordination, 30% adaptation patterns\n",
    "\n",
    "### Model Architecture:\n",
    "- Specialized for meta-learning and ensemble coordination\n",
    "- Built-in ensemble coordination mechanisms\n",
    "- Advanced meta-learning loss functions\n",
    "- Adaptive pattern generation capabilities\n",
    "\n",
    "Run all cells above to train PROMETHEUS and download the resulting model!"
   ]
  }
 ],
 "metadata": {
  "kernelspec": {
   "display_name": "Python 3",
   "language": "python",
   "name": "python3"
  },
  "language_info": {
   "codemirror_mode": {
    "name": "ipython",
    "version": 3
   },
   "file_extension": ".py",
   "mimetype": "text/x-python",
   "name": "python",
   "nbconvert_exporter": "python",
   "pygments_lexer": "ipython3",
   "version": "3.8.5"
  }
 },
 "nbformat": 4,
 "nbformat_minor": 4
}