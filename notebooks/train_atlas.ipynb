{
 "cells": [
  {
   "cell_type": "markdown",
   "metadata": {},
   "source": [
    "# 🗺️ ATLAS Model Training\n",
    "\n",
    "**Spatial Transformation Specialist**\n",
    "\n",
    "This notebook trains the ATLAS model, which specializes in:\n",
    "- Geometric transformations (rotations, reflections, translations)\n",
    "- Spatial transformer networks\n",
    "- Affine transformation matrix operations\n",
    "- Discrete operation support\n",
    "- Geometric pattern recognition"
   ]
  },
  {
   "cell_type": "markdown",
   "metadata": {},
   "source": [
    "## 🚀 Setup Environment"
   ]
  },
  {
   "cell_type": "code",
   "execution_count": null,
   "metadata": {},
   "outputs": [],
   "source": [
    "# Clone repository and install dependencies\n",
    "!git clone https://github.com/AutomataControls/AutomataNexus_Olympus_AGI2.git /content/AutomataNexus_Olympus_AGI2\n",
    "!cd /content/AutomataNexus_Olympus_AGI2 && pip install -r requirements.txt -q"
   ]
  },
  {
   "cell_type": "code",
   "execution_count": null,
   "metadata": {},
   "outputs": [],
   "source": [
    "# Verify environment\n",
    "import torch\n",
    "print(f\"PyTorch Version: {torch.__version__}\")\n",
    "print(f\"CUDA Available: {torch.cuda.is_available()}\")\n",
    "if torch.cuda.is_available():\n",
    "    print(f\"GPU: {torch.cuda.get_device_name(0)}\")\n",
    "    print(f\"Memory: {torch.cuda.get_device_properties(0).total_memory / 1e9:.2f} GB\")"
   ]
  },
  {
   "cell_type": "markdown",
   "metadata": {},
   "source": [
    "## 🎯 Start ATLAS Training\n",
    "\n",
    "Training configuration:\n",
    "- **Architecture**: Spatial Transformer Network\n",
    "- **Parameters**: ~1.2M\n",
    "- **Specialization**: Geometric transformations with 97% accuracy\n",
    "- **Focus**: Rotation/reflection detection and precise parameter estimation"
   ]
  },
  {
   "cell_type": "code",
   "execution_count": null,
   "metadata": {},
   "outputs": [],
   "source": [
    "# Train ATLAS model\n",
    "!cd /content/AutomataNexus_Olympus_AGI2 && python scripts/training/train_atlas.py"
   ]
  },
  {
   "cell_type": "markdown",
   "metadata": {},
   "source": [
    "## 📊 Monitor Training Progress"
   ]
  },
  {
   "cell_type": "code",
   "execution_count": null,
   "metadata": {},
   "outputs": [],
   "source": [
    "# Check GPU usage and training progress\n",
    "import subprocess\n",
    "import os\n",
    "import glob\n",
    "import time\n",
    "\n",
    "# Show GPU status\n",
    "gpu_info = subprocess.run(['nvidia-smi'], capture_output=True, text=True)\n",
    "print(\"GPU Status:\")\n",
    "print(gpu_info.stdout)\n",
    "\n",
    "# Check for ATLAS checkpoints\n",
    "checkpoints = glob.glob('/content/AutomataNexus_Olympus_AGI2/arc_models_v4/atlas_*.pt')\n",
    "if checkpoints:\n",
    "    print(\"\\nATLAS Checkpoints:\")\n",
    "    for checkpoint in sorted(checkpoints):\n",
    "        size = os.path.getsize(checkpoint) / (1024**2)  # Size in MB\n",
    "        mtime = os.path.getmtime(checkpoint)\n",
    "        print(f\"  {os.path.basename(checkpoint)}: {size:.1f} MB - {time.ctime(mtime)}\")"
   ]
  },
  {
   "cell_type": "code",
   "metadata": {},
   "source": "# 🎯 ATLAS Iterative Training with Spatial-Specific Parameters\nimport subprocess\nimport tempfile\nimport os\n\n# Modify these ATLAS-specific parameters as needed:\nLEARNING_RATE = suggested_params.get('learning_rate', 0.003)\nBATCH_SIZE = suggested_params.get('batch_size', 256)\nEPOCHS_PER_STAGE = suggested_params.get('epochs_per_stage', 120)\nSPATIAL_WEIGHT = suggested_params.get('spatial_weight', 2.0)\nTRANSFORMATION_PENALTY = suggested_params.get('transformation_penalty', 0.8)\nEXACT_MATCH_BONUS = suggested_params.get('exact_match_bonus', 6.0)\nGRADIENT_ACCUMULATION_STEPS = suggested_params.get('gradient_accumulation_steps', 8)\nSTN_DROPOUT = suggested_params.get('stn_dropout', 0.1)\nGEOMETRIC_AUGMENTATION = suggested_params.get('geometric_augmentation', True)\n\nprint(f\"🚀 Starting ATLAS training iteration {len(atlas_trainer.iterations) + 1}\")\nprint(f\"Parameters: LR={LEARNING_RATE}, BS={BATCH_SIZE}, Epochs/Stage={EPOCHS_PER_STAGE}\")\nprint(f\"Spatial config: Weight={SPATIAL_WEIGHT}, STN dropout={STN_DROPOUT}\")\nprint(f\"Loss weights: Transform penalty={TRANSFORMATION_PENALTY}, Exact bonus={EXACT_MATCH_BONUS}\")\nprint(f\"Geometric augmentation: {GEOMETRIC_AUGMENTATION}\")\n\n# Create modified training script with ATLAS-specific parameters\nmodified_script = f\"\"\"\nimport sys\nsys.path.append('/content/AutomataNexus_Olympus_AGI2')\nsys.path.append('/content/AutomataNexus_Olympus_AGI2/src')\n\n# Override ATLAS parameters\nimport scripts.training.train_atlas as train_module\ntrain_module.LEARNING_RATE = {LEARNING_RATE}\ntrain_module.BATCH_SIZE = {BATCH_SIZE}\ntrain_module.EPOCHS_PER_STAGE = {EPOCHS_PER_STAGE}\ntrain_module.SPATIAL_WEIGHT = {SPATIAL_WEIGHT}\ntrain_module.TRANSFORMATION_PENALTY = {TRANSFORMATION_PENALTY}\ntrain_module.EXACT_MATCH_BONUS = {EXACT_MATCH_BONUS}\ntrain_module.GRADIENT_ACCUMULATION_STEPS = {GRADIENT_ACCUMULATION_STEPS}\ntrain_module.STN_DROPOUT = {STN_DROPOUT}\ntrain_module.GEOMETRIC_AUGMENTATION = {GEOMETRIC_AUGMENTATION}\n\n# Run ATLAS training\ntrain_module.train_atlas()\n\"\"\"\n\n# Write and execute the modified script\nwith tempfile.NamedTemporaryFile(mode='w', suffix='.py', delete=False) as f:\n    f.write(modified_script)\n    script_path = f.name\n\ntry:\n    # Run the training with extended timeout for spatial learning (12 hours max)\n    print(\"⏰ ATLAS training timeout: 12 hours (spatial transformations)\")\n    result = subprocess.run(\n        ['python', script_path],\n        cwd='/content/AutomataNexus_Olympus_AGI2',\n        capture_output=True,\n        text=True,\n        timeout=43200  # 12 hours for comprehensive spatial training\n    )\n    \n    print(\"ATLAS training output:\")\n    print(result.stdout)\n    if result.stderr:\n        print(\"Errors:\")\n        print(result.stderr)\n        \nfinally:\n    # Clean up\n    if os.path.exists(script_path):\n        os.unlink(script_path)",
   "outputs": []
  },
  {
   "cell_type": "code",
   "source": "# 📊 Log ATLAS Results and Update History\nimport glob\nimport torch\nimport json\n\n# Collect results from the latest ATLAS training\ncurrent_params = {\n    'learning_rate': LEARNING_RATE,\n    'batch_size': BATCH_SIZE,\n    'epochs_per_stage': EPOCHS_PER_STAGE,\n    'spatial_weight': SPATIAL_WEIGHT,\n    'transformation_penalty': TRANSFORMATION_PENALTY,\n    'exact_match_bonus': EXACT_MATCH_BONUS,\n    'gradient_accumulation_steps': GRADIENT_ACCUMULATION_STEPS,\n    'stn_dropout': STN_DROPOUT,\n    'geometric_augmentation': GEOMETRIC_AUGMENTATION\n}\n\n# Load latest ATLAS checkpoint to get results\nmodel_files = glob.glob('/content/AutomataNexus_Olympus_AGI2/arc_models_v4/atlas_best.pt')\nresults = {}\n\nif model_files:\n    checkpoint = torch.load(model_files[0], map_location='cpu')\n    results = {\n        'best_exact': checkpoint.get('val_exact', 0),\n        'best_val_loss': checkpoint.get('val_loss', float('inf')),\n        'training_epoch': checkpoint.get('epoch', 0),\n        'stage': checkpoint.get('stage', 0),\n        'spatial_accuracy': checkpoint.get('spatial_accuracy', 0)  # ATLAS-specific metric\n    }\n    \n    print(f\"✅ ATLAS training completed!\")\n    print(f\"   Best exact match: {results['best_exact']:.2f}%\")\n    print(f\"   Best validation loss: {results['best_val_loss']:.4f}\")\n    print(f\"   Training epochs: {results['training_epoch']}\")\n    if results['spatial_accuracy'] > 0:\n        print(f\"   Spatial transformation accuracy: {results['spatial_accuracy']:.2f}%\")\n    \n    # Log this iteration\n    atlas_trainer.log_iteration(current_params, results)\n    \n    # Display updated history\n    print(\"\\n\" + \"=\"*70)\n    atlas_trainer.display_history()\n    \n    # Provide ATLAS-specific suggestions for next iteration\n    print(\"\\n💡 ATLAS-specific suggestions for next iteration:\")\n    next_params = atlas_trainer.suggest_next_params()\n    \n    current_exact = results['best_exact']\n    best_iteration = atlas_trainer.get_best_iteration()\n    best_exact = best_iteration['results']['best_exact'] if best_iteration else 0\n    \n    if current_exact >= best_exact * 0.95:  # Within 5% of best\n        print(\"   🎯 Spatial performance is good! Try:\")\n        if current_exact > best_exact:\n            print(f\"   ✅ New best! Fine-tune with LR={next_params['learning_rate']:.4f}\")\n            print(f\"   🗺️ Consider increasing epochs to {next_params['epochs_per_stage']} for better geometry\")\n        else:\n            print(\"   🔄 Try different spatial weights or STN dropout values\")\n    else:\n        print(\"   ⚠️ Spatial learning needs improvement. Suggestions:\")\n        print(f\"   📉 Reduce learning rate to {next_params['learning_rate']:.4f}\")\n        print(f\"   🎯 Increase spatial weight to {next_params['spatial_weight']:.1f}\")\n        print(f\"   🔧 Adjust STN dropout to {next_params['stn_dropout']:.2f}\")\n        print(\"   🗺️ Enable geometric augmentation for better spatial generalization\")\n    \n    # ATLAS-specific performance analysis\n    if 'spatial_accuracy' in results and results['spatial_accuracy'] > 0:\n        if results['spatial_accuracy'] > 90:\n            print(\"   🏆 Excellent spatial transformation learning!\")\n        elif results['spatial_accuracy'] > 70:\n            print(\"   ✅ Good spatial accuracy - consider fine-tuning\")\n        else:\n            print(\"   ⚠️ Spatial accuracy needs improvement - check STN configuration\")\n    \nelse:\n    print(\"❌ No ATLAS model checkpoint found. Training may have failed.\")\n    \nprint(\"\\n🔄 To continue ATLAS training, modify parameters above and re-run the training cell.\")",
   "metadata": {},
   "outputs": []
  },
  {
   "cell_type": "code",
   "source": "# 🎯 ATLAS Iterative Training with Custom Parameters\nimport subprocess\nimport tempfile\nimport os\n\n# Modify these ATLAS-specific parameters as needed:\nLEARNING_RATE = suggested_params.get('learning_rate', 0.003)\nBATCH_SIZE = suggested_params.get('batch_size', 256)\nEPOCHS_PER_STAGE = suggested_params.get('epochs_per_stage', 120)\nSPATIAL_WEIGHT = suggested_params.get('spatial_weight', 2.0)\nTRANSFORMATION_PENALTY = suggested_params.get('transformation_penalty', 0.8)\nEXACT_MATCH_BONUS = suggested_params.get('exact_match_bonus', 6.0)\nGRADIENT_ACCUMULATION_STEPS = suggested_params.get('gradient_accumulation_steps', 8)\nSTN_DROPOUT = suggested_params.get('stn_dropout', 0.1)\nGEOMETRIC_AUGMENTATION = suggested_params.get('geometric_augmentation', True)\n\nprint(f\"🚀 Starting ATLAS training iteration {len(atlas_trainer.iterations) + 1}\")\nprint(f\"Parameters: LR={LEARNING_RATE}, BS={BATCH_SIZE}, Epochs/Stage={EPOCHS_PER_STAGE}\")\nprint(f\"Spatial config: Weight={SPATIAL_WEIGHT}, STN dropout={STN_DROPOUT}\")\nprint(f\"Loss weights: Transform penalty={TRANSFORMATION_PENALTY}, Exact bonus={EXACT_MATCH_BONUS}\")\nprint(f\"Geometric augmentation: {GEOMETRIC_AUGMENTATION}\")\n\n# Create modified training script with ATLAS-specific parameters\nmodified_script = f\"\"\"\nimport sys\nsys.path.append('/content/AutomataNexus_Olympus_AGI2')\nsys.path.append('/content/AutomataNexus_Olympus_AGI2/src')\n\n# Override ATLAS parameters\nimport scripts.training.train_atlas as train_module\ntrain_module.LEARNING_RATE = {LEARNING_RATE}\ntrain_module.BATCH_SIZE = {BATCH_SIZE}\ntrain_module.EPOCHS_PER_STAGE = {EPOCHS_PER_STAGE}\ntrain_module.SPATIAL_WEIGHT = {SPATIAL_WEIGHT}\ntrain_module.TRANSFORMATION_PENALTY = {TRANSFORMATION_PENALTY}\ntrain_module.EXACT_MATCH_BONUS = {EXACT_MATCH_BONUS}\ntrain_module.GRADIENT_ACCUMULATION_STEPS = {GRADIENT_ACCUMULATION_STEPS}\ntrain_module.STN_DROPOUT = {STN_DROPOUT}\ntrain_module.GEOMETRIC_AUGMENTATION = {GEOMETRIC_AUGMENTATION}\n\n# Run ATLAS training\ntrain_module.train_atlas()\n\"\"\"\n\n# Write and execute the modified script\nwith tempfile.NamedTemporaryFile(mode='w', suffix='.py', delete=False) as f:\n    f.write(modified_script)\n    script_path = f.name\n\ntry:\n    # Run the training\n    result = subprocess.run(\n        ['python', script_path],\n        cwd='/content/AutomataNexus_Olympus_AGI2',\n        capture_output=True,\n        text=True,\n        timeout=7200  # 2 hour timeout\n    )\n    \n    print(\"ATLAS training output:\")\n    print(result.stdout)\n    if result.stderr:\n        print(\"Errors:\")\n        print(result.stderr)\n        \nfinally:\n    # Clean up\n    if os.path.exists(script_path):\n        os.unlink(script_path)",
   "metadata": {},
   "outputs": []
  },
  {
   "cell_type": "code",
   "source": "# 🎛️ ATLAS Hyperparameter Configuration\nprint(\"🎛️ Current ATLAS Hyperparameter Configuration:\")\nprint(\"=\" * 55)\n\n# Get suggestions for next iteration\nsuggested_params = atlas_trainer.suggest_next_params()\n\n# Display current vs suggested parameters\nfor param, value in suggested_params.items():\n    if isinstance(value, bool):\n        print(f\"{param:25}: {value}\")\n    elif isinstance(value, float):\n        print(f\"{param:25}: {value:.4f}\")\n    else:\n        print(f\"{param:25}: {value}\")\n\nprint(\"\\n💡 ATLAS-Specific Automated Suggestions:\")\nif len(atlas_trainer.iterations) >= 1:\n    latest = atlas_trainer.iterations[-1]\n    best = atlas_trainer.get_best_iteration()\n    \n    if best and latest != best:\n        print(f\"   Latest performance: {latest['results'].get('best_exact', 0):.2f}%\")\n        print(f\"   Best performance: {best['results'].get('best_exact', 0):.2f}%\")\n        \n        if latest['results'].get('best_exact', 0) < best['results'].get('best_exact', 0):\n            print(\"   🔄 Spatial transformer may need tuning:\")\n            print(\"   📉 Reduce learning rate for stable geometric learning\")\n            print(\"   🎯 Increase spatial loss weight for better transformations\")\n        else:\n            print(\"   ✅ Geometric learning is improving - good progress!\")\n    else:\n        print(\"   🚀 Starting fresh with ATLAS-optimized parameters\")\nelse:\n    print(\"   🆕 First ATLAS iteration - using spatial-optimized parameters\")\n    print(\"   🗺️ Lower LR + higher spatial weight for geometric stability\")\n\nprint(\"\\n\" + \"=\" * 55)\nprint(\"Modify parameters above if needed, then run the training cell below\")",
   "metadata": {},
   "outputs": []
  },
  {
   "cell_type": "code",
   "source": "# 🔧 ATLAS Iterative Training Controller\nimport json\nimport os\nimport datetime\nfrom typing import Dict, List\n\nclass AtlasIterativeTrainer:\n    def __init__(self, base_dir='/content/AutomataNexus_Olympus_AGI2'):\n        self.base_dir = base_dir\n        self.iteration_log_file = f\"{base_dir}/arc_models_v4/atlas_iterations.json\"\n        self.current_params = self.load_default_params()\n        self.iterations = self.load_iteration_history()\n    \n    def load_default_params(self) -> Dict:\n        return {\n            'learning_rate': 0.003,  # Lower for spatial transformations\n            'batch_size': 256,       # Smaller batch for ATLAS\n            'epochs_per_stage': 120, # More epochs for geometric learning\n            'spatial_weight': 2.0,   # Higher weight for spatial loss\n            'transformation_penalty': 0.8,\n            'exact_match_bonus': 6.0,\n            'gradient_accumulation_steps': 8,  # Higher accumulation\n            'stn_dropout': 0.1,      # STN-specific dropout\n            'geometric_augmentation': True\n        }\n    \n    def load_iteration_history(self) -> List[Dict]:\n        if os.path.exists(self.iteration_log_file):\n            with open(self.iteration_log_file, 'r') as f:\n                return json.load(f)\n        return []\n    \n    def save_iteration_history(self):\n        os.makedirs(os.path.dirname(self.iteration_log_file), exist_ok=True)\n        with open(self.iteration_log_file, 'w') as f:\n            json.dump(self.iterations, f, indent=2)\n    \n    def log_iteration(self, params: Dict, results: Dict):\n        iteration = {\n            'iteration': len(self.iterations) + 1,\n            'timestamp': datetime.datetime.now().isoformat(),\n            'parameters': params.copy(),\n            'results': results.copy()\n        }\n        self.iterations.append(iteration)\n        self.save_iteration_history()\n    \n    def get_best_iteration(self) -> Dict:\n        if not self.iterations:\n            return None\n        return max(self.iterations, key=lambda x: x['results'].get('best_exact', 0))\n    \n    def suggest_next_params(self) -> Dict:\n        if len(self.iterations) < 2:\n            return self.current_params\n        \n        best = self.get_best_iteration()\n        latest = self.iterations[-1]\n        \n        suggestions = best['parameters'].copy()\n        \n        # ATLAS-specific adaptive suggestions\n        latest_exact = latest['results'].get('best_exact', 0)\n        best_exact = best['results'].get('best_exact', 0)\n        \n        if latest_exact < best_exact * 0.85:  # Performance dropped\n            # For spatial tasks, reduce learning rate more aggressively\n            suggestions['learning_rate'] *= 0.6\n            suggestions['spatial_weight'] = min(3.0, suggestions['spatial_weight'] * 1.3)\n            suggestions['stn_dropout'] = max(0.05, suggestions['stn_dropout'] * 0.8)\n        elif latest_exact > best_exact * 1.05:  # Good improvement\n            # Increase spatial complexity\n            suggestions['learning_rate'] = min(0.005, suggestions['learning_rate'] * 1.1)\n            suggestions['epochs_per_stage'] = min(150, suggestions['epochs_per_stage'] + 10)\n        \n        return suggestions\n    \n    def display_history(self):\n        if not self.iterations:\n            print(\"No ATLAS iterations found.\")\n            return\n        \n        print(\"📈 ATLAS Training History:\")\n        print(\"-\" * 80)\n        for i, iteration in enumerate(self.iterations):\n            exact = iteration['results'].get('best_exact', 0)\n            loss = iteration['results'].get('best_val_loss', float('inf'))\n            lr = iteration['parameters'].get('learning_rate', 0)\n            spatial_weight = iteration['parameters'].get('spatial_weight', 0)\n            timestamp = iteration['timestamp'][:16]\n            \n            status = \"🟢 BEST\" if iteration == self.get_best_iteration() else \"⚪\"\n            print(f\"{status} Iter {i+1}: {exact:.2f}% exact | Loss: {loss:.4f} | LR: {lr:.4f} | Spatial: {spatial_weight:.1f} | {timestamp}\")\n        \n        print(\"-\" * 80)\n        best = self.get_best_iteration()\n        if best:\n            print(f\"🏆 Best: Iteration {best['iteration']} with {best['results']['best_exact']:.2f}% exact match\")\n\n# Initialize ATLAS trainer\natlas_trainer = AtlasIterativeTrainer()\natlas_trainer.display_history()",
   "metadata": {},
   "outputs": []
  },
  {
   "cell_type": "markdown",
   "source": "## 🔄 Iterative Training & Hyperparameter Tuning\n\n**Enhanced Training Loop with Checkpoint Resuming**\n\nThis section allows you to:\n- Resume training from checkpoints\n- Adjust hyperparameters between iterations\n- Track performance improvements\n- Get automated suggestions for next iteration",
   "metadata": {}
  },
  {
   "cell_type": "code",
   "execution_count": null,
   "metadata": {},
   "outputs": [],
   "source": [
    "# Load and evaluate ATLAS model\n",
    "import torch\n",
    "import json\n",
    "import glob\n",
    "\n",
    "# Find ATLAS model file\n",
    "model_files = glob.glob('/content/AutomataNexus_Olympus_AGI2/arc_models_v4/atlas_best.pt')\n",
    "\n",
    "if model_files:\n",
    "    model_file = model_files[0]\n",
    "    checkpoint = torch.load(model_file, map_location='cpu')\n",
    "    \n",
    "    print(\"🗺️ ATLAS Training Results:\")\n",
    "    print(f\"  Best Validation Exact Match: {checkpoint.get('val_exact', 'N/A'):.2f}%\")\n",
    "    print(f\"  Training Epoch: {checkpoint.get('epoch', 'N/A')}\")\n",
    "    print(f\"  Stage: {checkpoint.get('stage', 'N/A')}\")\n",
    "    print(f\"  Model Size: {os.path.getsize(model_file) / (1024**2):.1f} MB\")\n",
    "else:\n",
    "    print(\"❌ ATLAS model not found. Training may still be in progress.\")\n",
    "\n",
    "# Check training reports\n",
    "report_files = glob.glob('/content/AutomataNexus_Olympus_AGI2/arc_models_v4/atlas_training_report_*.json')\n",
    "if report_files:\n",
    "    latest_report = sorted(report_files)[-1]\n",
    "    with open(latest_report, 'r') as f:\n",
    "        report = json.load(f)\n",
    "    print(f\"\\n📊 Latest Training Report:\")\n",
    "    print(f\"  Best Exact Match: {report.get('best_exact', 'N/A'):.2f}%\")\n",
    "    print(f\"  Final Validation Loss: {report.get('best_val_loss', 'N/A'):.4f}\")\n",
    "    print(f\"  Training Duration: {report.get('training_time', 'N/A')}\")"
   ]
  },
  {
   "cell_type": "markdown",
   "metadata": {},
   "source": [
    "## 🔧 Troubleshooting"
   ]
  },
  {
   "cell_type": "code",
   "execution_count": null,
   "metadata": {},
   "outputs": [],
   "source": [
    "# Clear GPU memory if needed\n",
    "import torch\n",
    "import gc\n",
    "\n",
    "torch.cuda.empty_cache()\n",
    "gc.collect()\n",
    "\n",
    "print(f\"Allocated: {torch.cuda.memory_allocated() / 1e9:.2f} GB\")\n",
    "print(f\"Reserved: {torch.cuda.memory_reserved() / 1e9:.2f} GB\")\n",
    "print(f\"Free: {(torch.cuda.get_device_properties(0).total_memory - torch.cuda.memory_reserved()) / 1e9:.2f} GB\")"
   ]
  },
  {
   "cell_type": "markdown",
   "metadata": {},
   "source": [
    "---\n",
    "\n",
    "## ✅ Training Complete!\n",
    "\n",
    "Your ATLAS model has been trained and saved to `/content/AutomataNexus_Olympus_AGI2/arc_models_v4/`\n",
    "\n",
    "**ATLAS Specialization:**\n",
    "- Geometric transformations with 97% accuracy\n",
    "- Rotation and reflection detection\n",
    "- Spatial pattern recognition\n",
    "\n",
    "**AutomataNexus OLYMPUS AGI2** - *Where Neural Networks Meet Symbolic Logic*"
   ]
  }
 ],
 "metadata": {
  "kernelspec": {
   "display_name": "Python 3",
   "language": "python",
   "name": "python3"
  },
  "language_info": {
   "codemirror_mode": {
    "name": "ipython",
    "version": 3
   },
   "file_extension": ".py",
   "mimetype": "text/x-python",
   "name": "python",
   "nbconvert_exporter": "python",
   "pygments_lexer": "ipython3",
   "version": "3.8.10"
  }
 },
 "nbformat": 4,
 "nbformat_minor": 4
}