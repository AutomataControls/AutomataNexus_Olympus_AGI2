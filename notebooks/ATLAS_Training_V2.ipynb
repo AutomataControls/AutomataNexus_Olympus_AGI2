{
 "cells": [
  {
   "cell_type": "markdown",
   "metadata": {},
   "source": [
    "# ATLAS Training V2 - Enhanced Spatial Transformation Expert\n",
    "\n",
    "This notebook provides an enhanced training pipeline for ATLAS with improved learning dynamics and stability."
   ]
  },
  {
   "cell_type": "markdown",
   "metadata": {},
   "source": [
    "## 1. Setup and Installation"
   ]
  },
  {
   "cell_type": "code",
   "execution_count": null,
   "metadata": {},
   "outputs": [],
   "source": [
    "# Clone repository if needed\n",
    "import os\n",
    "if not os.path.exists('/content/AutomataNexus_Olympus_AGI2'):\n",
    "    !git clone https://github.com/AutomataControls/AutomataNexus_Olympus_AGI2.git /content/AutomataNexus_Olympus_AGI2\n",
    "else:\n",
    "    print(\"Repository already exists\")"
   ]
  },
  {
   "cell_type": "code",
   "execution_count": null,
   "metadata": {},
   "outputs": [],
   "source": [
    "# Install dependencies\n",
    "!pip install -q torch torchvision torchaudio\n",
    "!pip install -q tqdm matplotlib numpy scikit-learn\n",
    "!pip install -q einops"
   ]
  },
  {
   "cell_type": "markdown",
   "metadata": {},
   "source": [
    "## 2. Data Download"
   ]
  },
  {
   "cell_type": "code",
   "execution_count": null,
   "metadata": {},
   "outputs": [],
   "source": [
    "# Download ARC dataset\n",
    "import os\n",
    "data_dir = '/content/AutomataNexus_Olympus_AGI2/data'\n",
    "os.makedirs(data_dir, exist_ok=True)\n",
    "\n",
    "# Download training data\n",
    "if not os.path.exists(f'{data_dir}/arc-agi_training_challenges.json'):\n",
    "    !wget -q https://raw.githubusercontent.com/fchollet/ARC-AGI/master/data/training/arc-agi_training_challenges.json -P {data_dir}/\n",
    "    print(\"✅ Downloaded training challenges\")\n",
    "else:\n",
    "    print(\"Training data already exists\")\n",
    "\n",
    "# Download evaluation data\n",
    "if not os.path.exists(f'{data_dir}/arc-agi_evaluation_challenges.json'):\n",
    "    !wget -q https://raw.githubusercontent.com/fchollet/ARC-AGI/master/data/evaluation/arc-agi_evaluation_challenges.json -P {data_dir}/\n",
    "    print(\"✅ Downloaded evaluation challenges\")\n",
    "else:\n",
    "    print(\"Evaluation data already exists\")"
   ]
  },
  {
   "cell_type": "markdown",
   "metadata": {},
   "source": [
    "## 3. Run ATLAS V2 Training"
   ]
  },
  {
   "cell_type": "code",
   "execution_count": null,
   "metadata": {},
   "outputs": [],
   "source": [
    "# Change to project directory\n",
    "%cd /content/AutomataNexus_Olympus_AGI2"
   ]
  },
  {
   "cell_type": "code",
   "execution_count": null,
   "metadata": {},
   "outputs": [],
   "source": [
    "# Import and configure\n",
    "import torch\n",
    "import gc\n",
    "\n",
    "# Check GPU\n",
    "if torch.cuda.is_available():\n",
    "    print(f\"🔧 GPU Available: {torch.cuda.get_device_name(0)}\")\n",
    "    print(f\"   Memory: {torch.cuda.get_device_properties(0).total_memory / 1e9:.2f} GB\")\n",
    "else:\n",
    "    print(\"⚠️ No GPU available, training will be slow!\")\n",
    "\n",
    "# Clear GPU memory\n",
    "gc.collect()\n",
    "torch.cuda.empty_cache()"
   ]
  },
  {
   "cell_type": "code",
   "execution_count": null,
   "metadata": {},
   "outputs": [],
   "source": [
    "# Option 1: Quick test run (2 stages, 10 epochs each)\n",
    "!python scripts/training/train_atlas_specialized2.py --test_mode"
   ]
  },
  {
   "cell_type": "code",
   "execution_count": null,
   "metadata": {},
   "outputs": [],
   "source": [
    "# Option 2: Full training (all 8 stages)\n",
    "!python scripts/training/train_atlas_specialized2.py"
   ]
  },
  {
   "cell_type": "markdown",
   "metadata": {},
   "source": [
    "## 4. Monitor Training Progress"
   ]
  },
  {
   "cell_type": "code",
   "execution_count": null,
   "metadata": {},
   "outputs": [],
   "source": [
    "# Load and display training history\n",
    "import torch\n",
    "import matplotlib.pyplot as plt\n",
    "\n",
    "# Load checkpoint\n",
    "checkpoint_path = '/content/AutomataNexus_Olympus_AGI2/results/atlas_v2/atlas_v2_checkpoint.pt'\n",
    "if os.path.exists(checkpoint_path):\n",
    "    checkpoint = torch.load(checkpoint_path, map_location='cpu')\n",
    "    history = checkpoint['history']\n",
    "    \n",
    "    # Plot training progress\n",
    "    plt.figure(figsize=(15, 5))\n",
    "    \n",
    "    plt.subplot(1, 3, 1)\n",
    "    plt.plot(history['train_loss'], label='Train Loss', alpha=0.7)\n",
    "    plt.plot(history['val_loss'], label='Val Loss', alpha=0.7)\n",
    "    plt.xlabel('Epoch')\n",
    "    plt.ylabel('Loss')\n",
    "    plt.title('Loss History')\n",
    "    plt.legend()\n",
    "    plt.grid(True)\n",
    "    \n",
    "    plt.subplot(1, 3, 2)\n",
    "    plt.plot(history['train_exact'], label='Train Exact', alpha=0.7)\n",
    "    plt.plot(history['val_exact'], label='Val Exact', alpha=0.7)\n",
    "    plt.xlabel('Epoch')\n",
    "    plt.ylabel('Exact Match %')\n",
    "    plt.title('Exact Match History')\n",
    "    plt.legend()\n",
    "    plt.grid(True)\n",
    "    \n",
    "    plt.subplot(1, 3, 3)\n",
    "    plt.plot(history['learning_rates'], alpha=0.7)\n",
    "    plt.xlabel('Epoch')\n",
    "    plt.ylabel('Learning Rate')\n",
    "    plt.title('Learning Rate Schedule')\n",
    "    plt.yscale('log')\n",
    "    plt.grid(True)\n",
    "    \n",
    "    plt.tight_layout()\n",
    "    plt.show()\n",
    "    \n",
    "    print(f\"\\n📊 Current Status:\")\n",
    "    print(f\"   Epoch: {checkpoint['epoch']}\")\n",
    "    print(f\"   Stage: {checkpoint['stage']}\")\n",
    "    print(f\"   Best Exact Match: {checkpoint.get('best_exact', 0):.2f}%\")\n",
    "else:\n",
    "    print(\"No checkpoint found yet\")"
   ]
  },
  {
   "cell_type": "markdown",
   "metadata": {},
   "source": [
    "## 5. Test the Model"
   ]
  },
  {
   "cell_type": "code",
   "execution_count": null,
   "metadata": {},
   "outputs": [],
   "source": [
    "# Test on sample patterns\n",
    "import sys\n",
    "sys.path.append('/content/AutomataNexus_Olympus_AGI2/src')\n",
    "from models.atlas_model import EnhancedAtlasNet\n",
    "import torch.nn.functional as F\n",
    "\n",
    "# Load best model\n",
    "best_model_path = '/content/AutomataNexus_Olympus_AGI2/results/atlas_v2/atlas_v2_best.pt'\n",
    "if os.path.exists(best_model_path):\n",
    "    device = torch.device('cuda' if torch.cuda.is_available() else 'cpu')\n",
    "    model = EnhancedAtlasNet(max_grid_size=30, hidden_dim=256).to(device)\n",
    "    \n",
    "    checkpoint = torch.load(best_model_path, map_location=device)\n",
    "    model.load_state_dict(checkpoint['model_state_dict'])\n",
    "    model.eval()\n",
    "    \n",
    "    # Test on a simple rotation pattern\n",
    "    test_input = torch.tensor([\n",
    "        [1, 0, 0],\n",
    "        [0, 2, 0],\n",
    "        [0, 0, 3]\n",
    "    ]).unsqueeze(0).to(device)\n",
    "    \n",
    "    # Expected output (90-degree rotation)\n",
    "    expected = torch.tensor([\n",
    "        [0, 0, 1],\n",
    "        [0, 2, 0],\n",
    "        [3, 0, 0]\n",
    "    ])\n",
    "    \n",
    "    # Convert to one-hot\n",
    "    input_oh = F.one_hot(test_input, num_classes=10).permute(0, 3, 1, 2).float()\n",
    "    \n",
    "    # Predict\n",
    "    with torch.no_grad():\n",
    "        output = model(input_oh, mode='inference')\n",
    "        pred = output['predicted_output'].argmax(dim=1).squeeze()\n",
    "    \n",
    "    print(\"Input:\")\n",
    "    print(test_input.squeeze().cpu().numpy())\n",
    "    print(\"\\nPredicted:\")\n",
    "    print(pred.cpu().numpy())\n",
    "    print(\"\\nExpected:\")\n",
    "    print(expected.numpy())\n",
    "    \n",
    "    # Check if prediction matches expected\n",
    "    if torch.equal(pred.cpu(), expected):\n",
    "        print(\"\\n✅ Correct prediction!\")\n",
    "    else:\n",
    "        print(\"\\n❌ Incorrect prediction\")\n",
    "else:\n",
    "    print(\"No trained model found yet\")"
   ]
  },
  {
   "cell_type": "markdown",
   "metadata": {},
   "source": [
    "## 6. Download Trained Model"
   ]
  },
  {
   "cell_type": "code",
   "execution_count": null,
   "metadata": {},
   "outputs": [],
   "source": [
    "# Zip and download results\n",
    "import os\n",
    "from datetime import datetime\n",
    "\n",
    "results_dir = '/content/AutomataNexus_Olympus_AGI2/results/atlas_v2'\n",
    "if os.path.exists(results_dir):\n",
    "    timestamp = datetime.now().strftime('%Y%m%d_%H%M%S')\n",
    "    zip_name = f'atlas_v2_results_{timestamp}.zip'\n",
    "    \n",
    "    !cd /content/AutomataNexus_Olympus_AGI2 && zip -r {zip_name} results/atlas_v2/\n",
    "    \n",
    "    print(f\"✅ Created {zip_name}\")\n",
    "    print(\"Download using the file browser or:\")\n",
    "    print(f\"from google.colab import files\")\n",
    "    print(f\"files.download('/content/AutomataNexus_Olympus_AGI2/{zip_name}')\")\n",
    "else:\n",
    "    print(\"No results to download yet\")"
   ]
  }
 ],
 "metadata": {
  "kernelspec": {
   "display_name": "Python 3",
   "language": "python",
   "name": "python3"
  },
  "language_info": {
   "codemirror_mode": {
    "name": "ipython",
    "version": 3
   },
   "file_extension": ".py",
   "mimetype": "text/x-python",
   "name": "python",
   "nbconvert_exporter": "python",
   "pygments_lexer": "ipython3",
   "version": "3.10.0"
  }
 },
 "nbformat": 4,
 "nbformat_minor": 4
}