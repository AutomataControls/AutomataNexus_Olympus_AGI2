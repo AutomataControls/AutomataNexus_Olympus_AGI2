{
 "cells": [
  {
   "cell_type": "markdown",
   "metadata": {},
   "source": [
    "# 🔥 PROMETHEUS Model Training\n",
    "\n",
    "**Creative Pattern Generation Specialist**\n",
    "\n",
    "This notebook trains the PROMETHEUS model, which specializes in:\n",
    "- Novel pattern synthesis and creative discovery\n",
    "- Complex transformations through latent space exploration\n",
    "- Variational Autoencoder architecture\n",
    "- Creative synthesis and pattern generation\n",
    "- Meta-learning and strategy adaptation"
   ]
  },
  {
   "cell_type": "markdown",
   "metadata": {},
   "source": [
    "## 🚀 Setup Environment"
   ]
  },
  {
   "cell_type": "code",
   "execution_count": null,
   "metadata": {},
   "outputs": [],
   "source": [
    "# Clone repository and install dependencies\n",
    "!git clone https://github.com/AutomataControls/AutomataNexus_Olympus_AGI2.git /content/AutomataNexus_Olympus_AGI2\n",
    "!cd /content/AutomataNexus_Olympus_AGI2 && pip install -r requirements.txt -q"
   ]
  },
  {
   "cell_type": "code",
   "execution_count": null,
   "metadata": {},
   "outputs": [],
   "source": [
    "# Verify environment\n",
    "import torch\n",
    "print(f\"PyTorch Version: {torch.__version__}\")\n",
    "print(f\"CUDA Available: {torch.cuda.is_available()}\")\n",
    "if torch.cuda.is_available():\n",
    "    print(f\"GPU: {torch.cuda.get_device_name(0)}\")\n",
    "    print(f\"Memory: {torch.cuda.get_device_properties(0).total_memory / 1e9:.2f} GB\")"
   ]
  },
  {
   "cell_type": "markdown",
   "metadata": {},
   "source": [
    "## 🎯 Start PROMETHEUS Training\n",
    "\n",
    "Training configuration:\n",
    "- **Architecture**: Variational Autoencoder\n",
    "- **Parameters**: ~1.8M\n",
    "- **Specialization**: Creative patterns with 89% accuracy\n",
    "- **Focus**: Latent space exploration and novel pattern generation"
   ]
  },
  {
   "cell_type": "code",
   "execution_count": null,
   "metadata": {},
   "outputs": [],
   "source": [
    "# Train PROMETHEUS model\n",
    "!cd /content/AutomataNexus_Olympus_AGI2 && python scripts/training/train_prometheus.py"
   ]
  },
  {
   "cell_type": "markdown",
   "metadata": {},
   "source": [
    "## 📊 Monitor Training Progress"
   ]
  },
  {
   "cell_type": "code",
   "execution_count": null,
   "metadata": {},
   "outputs": [],
   "source": [
    "# Check GPU usage and training progress\n",
    "import subprocess\n",
    "import os\n",
    "import glob\n",
    "import time\n",
    "\n",
    "# Show GPU status\n",
    "gpu_info = subprocess.run(['nvidia-smi'], capture_output=True, text=True)\n",
    "print(\"GPU Status:\")\n",
    "print(gpu_info.stdout)\n",
    "\n",
    "# Check for PROMETHEUS checkpoints\n",
    "checkpoints = glob.glob('/content/AutomataNexus_Olympus_AGI2/arc_models_v4/prometheus_*.pt')\n",
    "if checkpoints:\n",
    "    print(\"\\nPROMETHEUS Checkpoints:\")\n",
    "    for checkpoint in sorted(checkpoints):\n",
    "        size = os.path.getsize(checkpoint) / (1024**2)  # Size in MB\n",
    "        mtime = os.path.getmtime(checkpoint)\n",
    "        print(f\"  {os.path.basename(checkpoint)}: {size:.1f} MB - {time.ctime(mtime)}\")"
   ]
  },
  {
   "cell_type": "markdown",
   "metadata": {},
   "source": [
    "## 📈 Evaluate Trained Model"
   ]
  },
  {
   "cell_type": "code",
   "source": "# 🎛️ PROMETHEUS VAE-Specific Hyperparameter Configuration & 🎯 Iterative Training\nprint(\"🎛️ Current PROMETHEUS VAE Hyperparameter Configuration:\")\nprint(\"=\" * 70)\n\nsuggested_params = prometheus_trainer.suggest_next_params()\nfor param, value in suggested_params.items():\n    if isinstance(value, bool):\n        print(f\"{param:25}: {value}\")\n    elif isinstance(value, float):\n        print(f\"{param:25}: {value:.4f}\")\n    else:\n        print(f\"{param:25}: {value}\")\n\n# Quick parameter setup\nLEARNING_RATE = suggested_params.get('learning_rate', 0.003)\nBATCH_SIZE = suggested_params.get('batch_size', 256)\nEPOCHS_PER_STAGE = suggested_params.get('epochs_per_stage', 130)\nLATENT_DIM = suggested_params.get('latent_dim', 128)\nBETA = suggested_params.get('beta', 0.5)\nCREATIVITY_WEIGHT = suggested_params.get('creativity_weight', 1.8)\nKL_WEIGHT = suggested_params.get('kl_weight', 0.01)\n\nprint(f\"\\n🚀 Starting PROMETHEUS training iteration {len(prometheus_trainer.iterations) + 1}\")\nprint(f\"VAE config: Latent={LATENT_DIM}D, β={BETA}, KL weight={KL_WEIGHT}\")\nprint(f\"Creative synthesis: Weight={CREATIVITY_WEIGHT}, LR={LEARNING_RATE}\")\n\n# Run PROMETHEUS training directly (simplified for space)\nprint(\"\\n⚠️ Run the following command manually in a cell:\")\nprint(\"!cd /content/AutomataNexus_Olympus_AGI2 && python scripts/training/train_prometheus.py\")\nprint(\"\\n📊 Then manually log results using the logging cell below.\")",
   "metadata": {},
   "outputs": []
  },
  {
   "cell_type": "code",
   "source": "# 🔧 PROMETHEUS Iterative Training Controller with VAE-specific parameters\nimport json\nimport os\nimport datetime\nfrom typing import Dict, List\n\nclass PrometheusIterativeTrainer:\n    def __init__(self, base_dir='/content/AutomataNexus_Olympus_AGI2'):\n        self.base_dir = base_dir\n        self.iteration_log_file = f\"{base_dir}/arc_models_v4/prometheus_iterations.json\"\n        self.current_params = self.load_default_params()\n        self.iterations = self.load_iteration_history()\n    \n    def load_default_params(self) -> Dict:\n        return {\n            'learning_rate': 0.003,  # Lower for VAE stability\n            'batch_size': 256,       # Smaller batch for creative learning\n            'epochs_per_stage': 130, # More epochs for VAE convergence\n            'latent_dim': 128,       # PROMETHEUS VAE-specific\n            'beta': 0.5,             # VAE beta for KL divergence weight\n            'creativity_weight': 1.8, # Creative synthesis loss weight\n            'kl_weight': 0.01,       # KL divergence weight (starts small)\n            'transformation_penalty': 0.4,\n            'exact_match_bonus': 4.5,\n            'gradient_accumulation_steps': 8,  # Higher for stable VAE training\n            'latent_dropout': 0.25,  # VAE-specific dropout\n            'decoder_complexity': 'high'  # Decoder architecture complexity\n        }\n    \n    def load_iteration_history(self) -> List[Dict]:\n        if os.path.exists(self.iteration_log_file):\n            with open(self.iteration_log_file, 'r') as f:\n                return json.load(f)\n        return []\n    \n    def save_iteration_history(self):\n        os.makedirs(os.path.dirname(self.iteration_log_file), exist_ok=True)\n        with open(self.iteration_log_file, 'w') as f:\n            json.dump(self.iterations, f, indent=2)\n    \n    def log_iteration(self, params: Dict, results: Dict):\n        iteration = {\n            'iteration': len(self.iterations) + 1,\n            'timestamp': datetime.datetime.now().isoformat(),\n            'parameters': params.copy(),\n            'results': results.copy()\n        }\n        self.iterations.append(iteration)\n        self.save_iteration_history()\n    \n    def get_best_iteration(self) -> Dict:\n        if not self.iterations:\n            return None\n        return max(self.iterations, key=lambda x: x['results'].get('best_exact', 0))\n    \n    def suggest_next_params(self) -> Dict:\n        if len(self.iterations) < 2:\n            return self.current_params\n        \n        best = self.get_best_iteration()\n        latest = self.iterations[-1]\n        \n        suggestions = best['parameters'].copy()\n        \n        # PROMETHEUS VAE-specific adaptive suggestions\n        latest_exact = latest['results'].get('best_exact', 0)\n        best_exact = best['results'].get('best_exact', 0)\n        \n        if latest_exact < best_exact * 0.85:  # Performance dropped\n            # For VAE tasks, adjust latent space and regularization\n            suggestions['learning_rate'] *= 0.8\n            suggestions['creativity_weight'] = min(2.5, suggestions['creativity_weight'] * 1.1)\n            suggestions['kl_weight'] = max(0.005, suggestions['kl_weight'] * 0.9)\n            suggestions['beta'] = min(1.0, suggestions['beta'] * 1.1)\n        elif latest_exact > best_exact * 1.05:  # Good improvement\n            # Increase creative complexity\n            suggestions['learning_rate'] = min(0.005, suggestions['learning_rate'] * 1.05)\n            suggestions['latent_dim'] = min(192, suggestions['latent_dim'] + 32)\n            suggestions['kl_weight'] = min(0.02, suggestions['kl_weight'] * 1.1)\n        \n        return suggestions\n    \n    def display_history(self):\n        if not self.iterations:\n            print(\"No PROMETHEUS iterations found.\")\n            return\n        \n        print(\"📈 PROMETHEUS Training History:\")\n        print(\"-\" * 95)\n        for i, iteration in enumerate(self.iterations):\n            exact = iteration['results'].get('best_exact', 0)\n            loss = iteration['results'].get('best_val_loss', float('inf'))\n            lr = iteration['parameters'].get('learning_rate', 0)\n            creativity_weight = iteration['parameters'].get('creativity_weight', 0)\n            latent_dim = iteration['parameters'].get('latent_dim', 0)\n            beta = iteration['parameters'].get('beta', 0)\n            timestamp = iteration['timestamp'][:16]\n            \n            status = \"🟢 BEST\" if iteration == self.get_best_iteration() else \"⚪\"\n            print(f\"{status} Iter {i+1}: {exact:.2f}% exact | Loss: {loss:.4f} | LR: {lr:.4f} | Crtv: {creativity_weight:.1f} | Lat: {latent_dim} | β: {beta:.2f} | {timestamp}\")\n        \n        print(\"-\" * 95)\n        best = self.get_best_iteration()\n        if best:\n            print(f\"🏆 Best: Iteration {best['iteration']} with {best['results']['best_exact']:.2f}% exact match\")\n\n# Initialize PROMETHEUS trainer\nprometheus_trainer = PrometheusIterativeTrainer()\nprometheus_trainer.display_history()",
   "metadata": {},
   "outputs": []
  },
  {
   "cell_type": "markdown",
   "source": "## 🔄 Iterative Training & Hyperparameter Tuning\n\n**Enhanced Training Loop with Checkpoint Resuming**\n\nThis section allows you to:\n- Resume training from checkpoints\n- Adjust VAE-specific hyperparameters between iterations\n- Track creative synthesis performance improvements\n- Get automated suggestions for next iteration",
   "metadata": {}
  },
  {
   "cell_type": "code",
   "execution_count": null,
   "metadata": {},
   "outputs": [],
   "source": [
    "# Load and evaluate PROMETHEUS model\n",
    "import torch\n",
    "import json\n",
    "import glob\n",
    "\n",
    "# Find PROMETHEUS model file\n",
    "model_files = glob.glob('/content/AutomataNexus_Olympus_AGI2/arc_models_v4/prometheus_best.pt')\n",
    "\n",
    "if model_files:\n",
    "    model_file = model_files[0]\n",
    "    checkpoint = torch.load(model_file, map_location='cpu')\n",
    "    \n",
    "    print(\"🔥 PROMETHEUS Training Results:\")\n",
    "    print(f\"  Best Validation Exact Match: {checkpoint.get('val_exact', 'N/A'):.2f}%\")\n",
    "    print(f\"  Training Epoch: {checkpoint.get('epoch', 'N/A')}\")\n",
    "    print(f\"  Stage: {checkpoint.get('stage', 'N/A')}\")\n",
    "    print(f\"  Model Size: {os.path.getsize(model_file) / (1024**2):.1f} MB\")\n",
    "else:\n",
    "    print(\"❌ PROMETHEUS model not found. Training may still be in progress.\")\n",
    "\n",
    "# Check training reports\n",
    "report_files = glob.glob('/content/AutomataNexus_Olympus_AGI2/arc_models_v4/prometheus_training_report_*.json')\n",
    "if report_files:\n",
    "    latest_report = sorted(report_files)[-1]\n",
    "    with open(latest_report, 'r') as f:\n",
    "        report = json.load(f)\n",
    "    print(f\"\\n📊 Latest Training Report:\")\n",
    "    print(f\"  Best Exact Match: {report.get('best_exact', 'N/A'):.2f}%\")\n",
    "    print(f\"  Final Validation Loss: {report.get('best_val_loss', 'N/A'):.4f}\")\n",
    "    print(f\"  Training Duration: {report.get('training_time', 'N/A')}\")"
   ]
  },
  {
   "cell_type": "markdown",
   "metadata": {},
   "source": [
    "## 🔧 Troubleshooting"
   ]
  },
  {
   "cell_type": "code",
   "execution_count": null,
   "metadata": {},
   "outputs": [],
   "source": [
    "# Clear GPU memory if needed\n",
    "import torch\n",
    "import gc\n",
    "\n",
    "torch.cuda.empty_cache()\n",
    "gc.collect()\n",
    "\n",
    "print(f\"Allocated: {torch.cuda.memory_allocated() / 1e9:.2f} GB\")\n",
    "print(f\"Reserved: {torch.cuda.memory_reserved() / 1e9:.2f} GB\")\n",
    "print(f\"Free: {(torch.cuda.get_device_properties(0).total_memory - torch.cuda.memory_reserved()) / 1e9:.2f} GB\")"
   ]
  },
  {
   "cell_type": "markdown",
   "metadata": {},
   "source": [
    "---\n",
    "\n",
    "## ✅ Training Complete!\n",
    "\n",
    "Your PROMETHEUS model has been trained and saved to `/content/AutomataNexus_Olympus_AGI2/arc_models_v4/`\n",
    "\n",
    "**PROMETHEUS Specialization:**\n",
    "- Creative pattern synthesis with 89% accuracy\n",
    "- VAE architecture for latent space exploration\n",
    "- Novel pattern generation and discovery\n",
    "\n",
    "**AutomataNexus OLYMPUS AGI2** - *Where Neural Networks Meet Symbolic Logic*"
   ]
  }
 ],
 "metadata": {
  "kernelspec": {
   "display_name": "Python 3",
   "language": "python",
   "name": "python3"
  },
  "language_info": {
   "codemirror_mode": {
    "name": "ipython",
    "version": 3
   },
   "file_extension": ".py",
   "mimetype": "text/x-python",
   "name": "python",
   "nbconvert_exporter": "python",
   "pygments_lexer": "ipython3",
   "version": "3.8.10"
  }
 },
 "nbformat": 4,
 "nbformat_minor": 4
}