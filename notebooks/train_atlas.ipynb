{
 "cells": [
  {
   "cell_type": "markdown",
   "metadata": {},
   "source": [
    "# 🗺️ ATLAS Model Training\n",
    "\n",
    "**Spatial Transformation Specialist**\n",
    "\n",
    "This notebook trains the ATLAS model, which specializes in:\n",
    "- Geometric transformations (rotations, reflections, translations)\n",
    "- Spatial transformer networks\n",
    "- Affine transformation matrix operations\n",
    "- Discrete operation support\n",
    "- Geometric pattern recognition"
   ]
  },
  {
   "cell_type": "markdown",
   "metadata": {},
   "source": [
    "## 🚀 Setup Environment"
   ]
  },
  {
   "cell_type": "code",
   "execution_count": null,
   "metadata": {},
   "outputs": [],
   "source": [
    "# Clone repository and install dependencies\n",
    "!git clone https://github.com/AutomataControls/AutomataNexus_Olympus_AGI2.git /content/AutomataNexus_Olympus_AGI2\n",
    "!cd /content/AutomataNexus_Olympus_AGI2 && pip install -r requirements.txt -q"
   ]
  },
  {
   "cell_type": "code",
   "execution_count": null,
   "metadata": {},
   "outputs": [],
   "source": [
    "# Verify environment\n",
    "import torch\n",
    "print(f\"PyTorch Version: {torch.__version__}\")\n",
    "print(f\"CUDA Available: {torch.cuda.is_available()}\")\n",
    "if torch.cuda.is_available():\n",
    "    print(f\"GPU: {torch.cuda.get_device_name(0)}\")\n",
    "    print(f\"Memory: {torch.cuda.get_device_properties(0).total_memory / 1e9:.2f} GB\")"
   ]
  },
  {
   "cell_type": "markdown",
   "metadata": {},
   "source": [
    "## 🎯 Start ATLAS Training\n",
    "\n",
    "Training configuration:\n",
    "- **Architecture**: Spatial Transformer Network\n",
    "- **Parameters**: ~1.2M\n",
    "- **Specialization**: Geometric transformations with 97% accuracy\n",
    "- **Focus**: Rotation/reflection detection and precise parameter estimation"
   ]
  },
  {
   "cell_type": "code",
   "execution_count": null,
   "metadata": {},
   "outputs": [],
   "source": [
    "# Train ATLAS model\n",
    "!cd /content/AutomataNexus_Olympus_AGI2 && python scripts/training/train_atlas.py"
   ]
  },
  {
   "cell_type": "markdown",
   "metadata": {},
   "source": [
    "## 📊 Monitor Training Progress"
   ]
  },
  {
   "cell_type": "code",
   "execution_count": null,
   "metadata": {},
   "outputs": [],
   "source": [
    "# Check GPU usage and training progress\n",
    "import subprocess\n",
    "import os\n",
    "import glob\n",
    "import time\n",
    "\n",
    "# Show GPU status\n",
    "gpu_info = subprocess.run(['nvidia-smi'], capture_output=True, text=True)\n",
    "print(\"GPU Status:\")\n",
    "print(gpu_info.stdout)\n",
    "\n",
    "# Check for ATLAS checkpoints\n",
    "checkpoints = glob.glob('/content/AutomataNexus_Olympus_AGI2/arc_models_v4/atlas_*.pt')\n",
    "if checkpoints:\n",
    "    print(\"\\nATLAS Checkpoints:\")\n",
    "    for checkpoint in sorted(checkpoints):\n",
    "        size = os.path.getsize(checkpoint) / (1024**2)  # Size in MB\n",
    "        mtime = os.path.getmtime(checkpoint)\n",
    "        print(f\"  {os.path.basename(checkpoint)}: {size:.1f} MB - {time.ctime(mtime)}\")"
   ]
  },
  {
   "cell_type": "markdown",
   "metadata": {},
   "source": [
    "## 📈 Evaluate Trained Model"
   ]
  },
  {
   "cell_type": "code",
   "execution_count": null,
   "metadata": {},
   "outputs": [],
   "source": [
    "# Load and evaluate ATLAS model\n",
    "import torch\n",
    "import json\n",
    "import glob\n",
    "\n",
    "# Find ATLAS model file\n",
    "model_files = glob.glob('/content/AutomataNexus_Olympus_AGI2/arc_models_v4/atlas_best.pt')\n",
    "\n",
    "if model_files:\n",
    "    model_file = model_files[0]\n",
    "    checkpoint = torch.load(model_file, map_location='cpu')\n",
    "    \n",
    "    print(\"🗺️ ATLAS Training Results:\")\n",
    "    print(f\"  Best Validation Exact Match: {checkpoint.get('val_exact', 'N/A'):.2f}%\")\n",
    "    print(f\"  Training Epoch: {checkpoint.get('epoch', 'N/A')}\")\n",
    "    print(f\"  Stage: {checkpoint.get('stage', 'N/A')}\")\n",
    "    print(f\"  Model Size: {os.path.getsize(model_file) / (1024**2):.1f} MB\")\n",
    "else:\n",
    "    print(\"❌ ATLAS model not found. Training may still be in progress.\")\n",
    "\n",
    "# Check training reports\n",
    "report_files = glob.glob('/content/AutomataNexus_Olympus_AGI2/arc_models_v4/atlas_training_report_*.json')\n",
    "if report_files:\n",
    "    latest_report = sorted(report_files)[-1]\n",
    "    with open(latest_report, 'r') as f:\n",
    "        report = json.load(f)\n",
    "    print(f\"\\n📊 Latest Training Report:\")\n",
    "    print(f\"  Best Exact Match: {report.get('best_exact', 'N/A'):.2f}%\")\n",
    "    print(f\"  Final Validation Loss: {report.get('best_val_loss', 'N/A'):.4f}\")\n",
    "    print(f\"  Training Duration: {report.get('training_time', 'N/A')}\")"
   ]
  },
  {
   "cell_type": "markdown",
   "metadata": {},
   "source": [
    "## 🔧 Troubleshooting"
   ]
  },
  {
   "cell_type": "code",
   "execution_count": null,
   "metadata": {},
   "outputs": [],
   "source": [
    "# Clear GPU memory if needed\n",
    "import torch\n",
    "import gc\n",
    "\n",
    "torch.cuda.empty_cache()\n",
    "gc.collect()\n",
    "\n",
    "print(f\"Allocated: {torch.cuda.memory_allocated() / 1e9:.2f} GB\")\n",
    "print(f\"Reserved: {torch.cuda.memory_reserved() / 1e9:.2f} GB\")\n",
    "print(f\"Free: {(torch.cuda.get_device_properties(0).total_memory - torch.cuda.memory_reserved()) / 1e9:.2f} GB\")"
   ]
  },
  {
   "cell_type": "markdown",
   "metadata": {},
   "source": [
    "---\n",
    "\n",
    "## ✅ Training Complete!\n",
    "\n",
    "Your ATLAS model has been trained and saved to `/content/AutomataNexus_Olympus_AGI2/arc_models_v4/`\n",
    "\n",
    "**ATLAS Specialization:**\n",
    "- Geometric transformations with 97% accuracy\n",
    "- Rotation and reflection detection\n",
    "- Spatial pattern recognition\n",
    "\n",
    "**AutomataNexus OLYMPUS AGI2** - *Where Neural Networks Meet Symbolic Logic*"
   ]
  }
 ],
 "metadata": {
  "kernelspec": {
   "display_name": "Python 3",
   "language": "python",
   "name": "python3"
  },
  "language_info": {
   "codemirror_mode": {
    "name": "ipython",
    "version": 3
   },
   "file_extension": ".py",
   "mimetype": "text/x-python",
   "name": "python",
   "nbconvert_exporter": "python",
   "pygments_lexer": "ipython3",
   "version": "3.8.10"
  }
 },
 "nbformat": 4,
 "nbformat_minor": 4
}